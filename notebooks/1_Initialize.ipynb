{
 "cells": [
  {
   "cell_type": "markdown",
   "metadata": {},
   "source": [
    "# Initialization"
   ]
  },
  {
   "cell_type": "markdown",
   "metadata": {},
   "source": [
    "This notebook contains commands for all necessary preparations between training models:\n",
    "\n",
    "- concatenate data into 3 datasets (train, test1, test2);\n",
    "- produce labels for cross-validation\n",
    "\n",
    "Note: indices for train/test splits are already provided with this repository, but user may recompute it."
   ]
  },
  {
   "cell_type": "markdown",
   "metadata": {},
   "source": [
    "### Data preparation\n",
    "\n",
    "Filter inappropriate samples (blanks, etc) from dataset, map labels of low-sampled identities to '-1' class."
   ]
  },
  {
   "cell_type": "code",
   "execution_count": null,
   "metadata": {
    "scrolled": true
   },
   "outputs": [],
   "source": [
    "import numpy as np\n",
    "import sys\n",
    "sys.path.append('../src/')\n",
    "\n",
    "from initialization import concatenateSeparateToOneDF\n",
    "from initialization import filterLabels\n",
    "\n",
    "dirname = '../data/'\n",
    "save_filename = 'dataset'\n",
    "save_filename2 = 'test2'\n",
    "main_dataset_filename = 'LCMS-IT-TOF.npz'\n",
    "\n",
    "filterLabels(main_dataset_filename, dirname, min_count=20, save_filename=save_filename)\n",
    "print \"<%s> successfully filtered into <%s>\" % (main_dataset_filename, save_filename)\n",
    "\n",
    "additional_dataset_filenames = [\n",
    "    'LCMS-IT-TOF_water.npz', 'LCMS-IT-TOF_methanol.npz', \n",
    "    'Agilent_QqQ_water.npz', 'Agilent_QqQ_methanol.npz', 'Agilent_QqQ_ethanol.npz'\n",
    "]\n",
    "\n",
    "concatenateSeparateToOneDF(additional_dataset_filenames, dirname, save_filename2)\n",
    "print \"<%s>: successfully concatenated.\" % (save_filename2)"
   ]
  },
  {
   "cell_type": "markdown",
   "metadata": {},
   "source": [
    "### Cross validation index generation\n",
    "\n",
    "Generate indices for repeated K-fold CV."
   ]
  },
  {
   "cell_type": "code",
   "execution_count": null,
   "metadata": {},
   "outputs": [],
   "source": [
    "import numpy as np\n",
    "import os\n",
    "import sys\n",
    "sys.path.append('../src/')\n",
    "\n",
    "from initialization import concatenateSeparateToOneDF\n",
    "from initialization import filterLabels\n",
    "from initialization import generateRandomizedKFoldedSet\n",
    "\n",
    "dirname = '../data/'\n",
    "filename = 'dataset.npz'\n",
    "filename_cv = 'cv_indices'\n",
    "\n",
    "n_splits = 5\n",
    "n_repeats = 5\n",
    "# next variable must guarantee the quivalence of generated splits and ones used in our research\n",
    "random_state = 235\n",
    "\n",
    "try:\n",
    "    df = np.load(dirname+filename)\n",
    "    X, y = df['data'], df['label']\n",
    "    i1, i2 = generateRandomizedKFoldedSet(\n",
    "        X, y, n_splits, n_repeats, random_state, filename_cv,\n",
    "        dirname, return_result=1\n",
    "    )\n",
    "    print '%d-times repeated %d-fold splits are generated and saved to <%s> in <%s> directory' % (\n",
    "        n_repeats, n_splits, filename_cv, dirname\n",
    "    )\n",
    "except:\n",
    "    print \"No file %s in %s directory.\" % (filename, dirname)\n",
    "    print \"Please run data preparation code from above section .\""
   ]
  },
  {
   "cell_type": "markdown",
   "metadata": {},
   "source": [
    "[Reopen contents](../chemfin.ipynb)"
   ]
  }
 ],
 "metadata": {
  "kernelspec": {
   "display_name": "Python 2",
   "language": "python",
   "name": "python2"
  },
  "language_info": {
   "codemirror_mode": {
    "name": "ipython",
    "version": 2
   },
   "file_extension": ".py",
   "mimetype": "text/x-python",
   "name": "python",
   "nbconvert_exporter": "python",
   "pygments_lexer": "ipython2",
   "version": "2.7.14"
  }
 },
 "nbformat": 4,
 "nbformat_minor": 2
}
