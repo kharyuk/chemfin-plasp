{
 "cells": [
  {
   "cell_type": "markdown",
   "metadata": {},
   "source": [
    "# SNMF approach: predict part of plant"
   ]
  },
  {
   "cell_type": "markdown",
   "metadata": {},
   "source": [
    "## Contents\n",
    "- [1. Imports](#1.-Imports)\n",
    "- [2. Compute models](#2.-Compute-models)\n",
    "- [3. Predicting parts of plants](#3.-Predicting-parts-of-plants)\n",
    "- [4. Results](#4.-Results)\n",
    "\n",
    "\n",
    "[Back to Chemfin](../Chemfin.ipynb)"
   ]
  },
  {
   "cell_type": "markdown",
   "metadata": {},
   "source": [
    "### 1. Imports\n",
    "\n",
    "[Back to contents](#Contents)"
   ]
  },
  {
   "cell_type": "code",
   "execution_count": 1,
   "metadata": {},
   "outputs": [
    {
     "name": "stdout",
     "output_type": "stream",
     "text": [
      "env: OMP_NUM_THREADS=4\n",
      "env: MKL_NUM_THREADS=4\n"
     ]
    }
   ],
   "source": [
    "%env OMP_NUM_THREADS=4\n",
    "%env MKL_NUM_THREADS=4"
   ]
  },
  {
   "cell_type": "code",
   "execution_count": 3,
   "metadata": {},
   "outputs": [],
   "source": [
    "import sys\n",
    "sys.path.append('../src/')\n",
    "\n",
    "from computational_utils import reshape\n",
    "\n",
    "import numpy as np\n",
    "import pandas as pd\n",
    "import copy\n",
    "import time\n",
    "import scipy\n",
    "\n",
    "from sklearn.metrics import accuracy_score\n",
    "\n",
    "from matrix import estimateMzPolarityFactors\n",
    "from matrix import MatrixClassifierLCMS\n",
    "\n",
    "from sklearn.metrics import accuracy_score\n",
    "from sklearn.metrics import f1_score\n",
    "from sklearn.metrics import confusion_matrix\n",
    "\n",
    "import dcor\n",
    "\n",
    "\n",
    "import seaborn as sns\n",
    "import matplotlib.pyplot as plt\n",
    "%matplotlib inline\n",
    "rank=25"
   ]
  },
  {
   "cell_type": "markdown",
   "metadata": {},
   "source": [
    "### 2. Compute models\n",
    "\n",
    "[Back to contents](#Contents)"
   ]
  },
  {
   "cell_type": "code",
   "execution_count": 3,
   "metadata": {},
   "outputs": [
    {
     "name": "stdout",
     "output_type": "stream",
     "text": [
      "ind=0 rank=25 time=119.45s\n",
      "ind=4 rank=25 time=113.60s\n",
      "ind=5 rank=25 time=112.60s\n",
      "ind=6 rank=25 time=124.95s\n",
      "ind=7 rank=25 time=119.36s\n",
      "ind=8 rank=25 time=130.02s\n",
      "ind=9 rank=25 time=112.11s\n",
      "ind=10 rank=25 time=120.57s\n",
      "ind=11 rank=25 time=115.23s\n",
      "ind=12 rank=25 time=111.46s\n",
      "ind=13 rank=25 time=130.01s\n",
      "ind=14 rank=25 time=109.28s\n",
      "ind=15 rank=25 time=118.10s\n",
      "ind=16 rank=25 time=126.29s\n",
      "ind=17 rank=25 time=125.63s\n",
      "ind=18 rank=25 time=109.00s\n",
      "ind=19 rank=25 time=121.23s\n"
     ]
    }
   ],
   "source": [
    "data_dirname = '../data/'\n",
    "model_dirname = '../models/matrix_decomposition/'\n",
    "model_filename_prefix = 'parts_model_md_snn'\n",
    "\n",
    "filename_dataset = 'dataset_parts.npz'\n",
    "#filename_cv = 'cv_indices_parts.npz'\n",
    "filename_cv = 'physical_cv_indices_parts.npz'\n",
    "\n",
    "maxitnum = 1000\n",
    "\n",
    "rank = 25\n",
    "\n",
    "df = np.load(data_dirname+filename_cv)\n",
    "test_indices, train_indices = df['test_indices'], df['train_indices']\n",
    "\n",
    "df = np.load(data_dirname+filename_dataset)\n",
    "X, y = df['data'], df['label']\n",
    "X = np.reshape(X, [X.shape[0], -1], order='F')\n",
    "Nfeatures = X.shape[1]\n",
    "\n",
    "tms = []\n",
    "for ind in xrange(len(train_indices)):\n",
    "    clf = MatrixClassifierLCMS(Nfeatures, rank, maxitnum=maxitnum)\n",
    "    tic = time.clock()\n",
    "    clf.fit(X[train_indices[ind]], y[train_indices[ind]], verbose=0)\n",
    "    toc = time.clock()\n",
    "    tms.append(toc-tic)\n",
    "    clf.saveParameters(model_dirname+'rank='+str(rank)+'_'+model_filename_prefix+'_'+str(ind))\n",
    "    np.savez_compressed(\n",
    "        model_dirname+'rank='+str(rank)+'_times_train_'+model_filename_prefix,\n",
    "        tms=tms\n",
    "    )\n",
    "    print \"ind=%d rank=%d time=%.2fs\" % (\n",
    "        ind, rank, tms[-1]\n",
    "    )"
   ]
  },
  {
   "cell_type": "markdown",
   "metadata": {},
   "source": [
    "### 3. Predicting parts of plants\n",
    "\n",
    "[Back to contents](#Contents)"
   ]
  },
  {
   "cell_type": "code",
   "execution_count": 4,
   "metadata": {},
   "outputs": [
    {
     "name": "stdout",
     "output_type": "stream",
     "text": [
      "rank=25_parts_model_md_snn_0.npz\n"
     ]
    },
    {
     "name": "stderr",
     "output_type": "stream",
     "text": [
      "/home/hariyuki/apd/lib/python2.7/site-packages/sklearn/metrics/classification.py:1145: UndefinedMetricWarning: F-score is ill-defined and being set to 0.0 in labels with no true samples.\n",
      "  'recall', 'true', average, warn_for)\n"
     ]
    },
    {
     "name": "stdout",
     "output_type": "stream",
     "text": [
      "ind=0 rank=25 time=68.47s/7.00s acc=0.9653/0.8848/0.8636 f1=0.9658/0.8882/0.8737\n",
      "rank=25_parts_model_md_snn_1.npz\n"
     ]
    },
    {
     "name": "stderr",
     "output_type": "stream",
     "text": [
      "/home/hariyuki/apd/lib/python2.7/site-packages/sklearn/metrics/classification.py:1145: UndefinedMetricWarning: F-score is ill-defined and being set to 0.0 in labels with no true samples.\n",
      "  'recall', 'true', average, warn_for)\n"
     ]
    },
    {
     "name": "stdout",
     "output_type": "stream",
     "text": [
      "ind=1 rank=25 time=64.47s/6.05s acc=0.9688/0.8232/0.8636 f1=0.9692/0.8275/0.8643\n",
      "rank=25_parts_model_md_snn_2.npz\n"
     ]
    },
    {
     "name": "stderr",
     "output_type": "stream",
     "text": [
      "/home/hariyuki/apd/lib/python2.7/site-packages/sklearn/metrics/classification.py:1145: UndefinedMetricWarning: F-score is ill-defined and being set to 0.0 in labels with no true samples.\n",
      "  'recall', 'true', average, warn_for)\n"
     ]
    },
    {
     "name": "stdout",
     "output_type": "stream",
     "text": [
      "ind=2 rank=25 time=62.46s/6.26s acc=0.9639/0.9080/0.8182 f1=0.9644/0.9100/0.8086\n",
      "rank=25_parts_model_md_snn_3.npz\n"
     ]
    },
    {
     "name": "stderr",
     "output_type": "stream",
     "text": [
      "/home/hariyuki/apd/lib/python2.7/site-packages/sklearn/metrics/classification.py:1145: UndefinedMetricWarning: F-score is ill-defined and being set to 0.0 in labels with no true samples.\n",
      "  'recall', 'true', average, warn_for)\n"
     ]
    },
    {
     "name": "stdout",
     "output_type": "stream",
     "text": [
      "ind=3 rank=25 time=65.89s/6.04s acc=0.9607/0.9313/0.8409 f1=0.9614/0.9345/0.8373\n",
      "rank=25_parts_model_md_snn_4.npz\n"
     ]
    },
    {
     "name": "stderr",
     "output_type": "stream",
     "text": [
      "/home/hariyuki/apd/lib/python2.7/site-packages/sklearn/metrics/classification.py:1145: UndefinedMetricWarning: F-score is ill-defined and being set to 0.0 in labels with no true samples.\n",
      "  'recall', 'true', average, warn_for)\n"
     ]
    },
    {
     "name": "stdout",
     "output_type": "stream",
     "text": [
      "ind=4 rank=25 time=62.18s/5.79s acc=0.9646/0.9273/0.8409 f1=0.9657/0.9303/0.8429\n",
      "rank=25_parts_model_md_snn_5.npz\n"
     ]
    },
    {
     "name": "stderr",
     "output_type": "stream",
     "text": [
      "/home/hariyuki/apd/lib/python2.7/site-packages/sklearn/metrics/classification.py:1145: UndefinedMetricWarning: F-score is ill-defined and being set to 0.0 in labels with no true samples.\n",
      "  'recall', 'true', average, warn_for)\n"
     ]
    },
    {
     "name": "stdout",
     "output_type": "stream",
     "text": [
      "ind=5 rank=25 time=61.02s/5.80s acc=0.9623/0.8415/0.8182 f1=0.9628/0.8489/0.8024\n",
      "rank=25_parts_model_md_snn_6.npz\n",
      "ind=6 rank=25 time=59.99s/5.85s acc=0.9711/0.8650/0.8182 f1=0.9716/0.8686/0.8143\n",
      "rank=25_parts_model_md_snn_7.npz\n"
     ]
    },
    {
     "name": "stderr",
     "output_type": "stream",
     "text": [
      "/home/hariyuki/apd/lib/python2.7/site-packages/sklearn/metrics/classification.py:1145: UndefinedMetricWarning: F-score is ill-defined and being set to 0.0 in labels with no true samples.\n",
      "  'recall', 'true', average, warn_for)\n"
     ]
    },
    {
     "name": "stdout",
     "output_type": "stream",
     "text": [
      "ind=7 rank=25 time=61.55s/7.40s acc=0.9593/0.8500/0.8864 f1=0.9600/0.8538/0.8908\n",
      "rank=25_parts_model_md_snn_8.npz\n"
     ]
    },
    {
     "name": "stderr",
     "output_type": "stream",
     "text": [
      "/home/hariyuki/apd/lib/python2.7/site-packages/sklearn/metrics/classification.py:1145: UndefinedMetricWarning: F-score is ill-defined and being set to 0.0 in labels with no true samples.\n",
      "  'recall', 'true', average, warn_for)\n"
     ]
    },
    {
     "name": "stdout",
     "output_type": "stream",
     "text": [
      "ind=8 rank=25 time=64.93s/6.34s acc=0.9748/0.8848/0.8409 f1=0.9750/0.8853/0.8461\n",
      "rank=25_parts_model_md_snn_9.npz\n"
     ]
    },
    {
     "name": "stderr",
     "output_type": "stream",
     "text": [
      "/home/hariyuki/apd/lib/python2.7/site-packages/sklearn/metrics/classification.py:1145: UndefinedMetricWarning: F-score is ill-defined and being set to 0.0 in labels with no true samples.\n",
      "  'recall', 'true', average, warn_for)\n"
     ]
    },
    {
     "name": "stdout",
     "output_type": "stream",
     "text": [
      "ind=9 rank=25 time=57.45s/6.39s acc=0.9722/0.9207/0.8409 f1=0.9726/0.9187/0.8510\n",
      "rank=25_parts_model_md_snn_10.npz\n"
     ]
    },
    {
     "name": "stderr",
     "output_type": "stream",
     "text": [
      "/home/hariyuki/apd/lib/python2.7/site-packages/sklearn/metrics/classification.py:1145: UndefinedMetricWarning: F-score is ill-defined and being set to 0.0 in labels with no true samples.\n",
      "  'recall', 'true', average, warn_for)\n"
     ]
    },
    {
     "name": "stdout",
     "output_type": "stream",
     "text": [
      "ind=10 rank=25 time=69.68s/6.85s acc=0.9573/0.8957/0.7955 f1=0.9581/0.9014/0.7768\n",
      "rank=25_parts_model_md_snn_11.npz\n"
     ]
    },
    {
     "name": "stderr",
     "output_type": "stream",
     "text": [
      "/home/hariyuki/apd/lib/python2.7/site-packages/sklearn/metrics/classification.py:1145: UndefinedMetricWarning: F-score is ill-defined and being set to 0.0 in labels with no true samples.\n",
      "  'recall', 'true', average, warn_for)\n"
     ]
    },
    {
     "name": "stdout",
     "output_type": "stream",
     "text": [
      "ind=11 rank=25 time=58.80s/5.94s acc=0.9559/0.8500/0.8636 f1=0.9567/0.8561/0.8609\n",
      "rank=25_parts_model_md_snn_12.npz\n",
      "ind=12 rank=25 time=56.00s/5.80s acc=0.9585/0.8667/0.8636 f1=0.9594/0.8689/0.8578\n",
      "rank=25_parts_model_md_snn_13.npz\n"
     ]
    },
    {
     "name": "stderr",
     "output_type": "stream",
     "text": [
      "/home/hariyuki/apd/lib/python2.7/site-packages/sklearn/metrics/classification.py:1145: UndefinedMetricWarning: F-score is ill-defined and being set to 0.0 in labels with no true samples.\n",
      "  'recall', 'true', average, warn_for)\n"
     ]
    },
    {
     "name": "stdout",
     "output_type": "stream",
     "text": [
      "ind=13 rank=25 time=64.78s/6.21s acc=0.9698/0.8293/0.8409 f1=0.9702/0.8309/0.8429\n",
      "rank=25_parts_model_md_snn_14.npz\n"
     ]
    },
    {
     "name": "stderr",
     "output_type": "stream",
     "text": [
      "/home/hariyuki/apd/lib/python2.7/site-packages/sklearn/metrics/classification.py:1145: UndefinedMetricWarning: F-score is ill-defined and being set to 0.0 in labels with no true samples.\n",
      "  'recall', 'true', average, warn_for)\n"
     ]
    },
    {
     "name": "stdout",
     "output_type": "stream",
     "text": [
      "ind=14 rank=25 time=65.89s/5.64s acc=0.9557/0.8773/0.8182 f1=0.9564/0.8801/0.8172\n",
      "rank=25_parts_model_md_snn_15.npz\n"
     ]
    },
    {
     "name": "stderr",
     "output_type": "stream",
     "text": [
      "/home/hariyuki/apd/lib/python2.7/site-packages/sklearn/metrics/classification.py:1145: UndefinedMetricWarning: F-score is ill-defined and being set to 0.0 in labels with no true samples.\n",
      "  'recall', 'true', average, warn_for)\n"
     ]
    },
    {
     "name": "stdout",
     "output_type": "stream",
     "text": [
      "ind=15 rank=25 time=59.39s/5.43s acc=0.9709/0.8625/0.8182 f1=0.9712/0.8680/0.7985\n",
      "rank=25_parts_model_md_snn_16.npz\n"
     ]
    },
    {
     "name": "stderr",
     "output_type": "stream",
     "text": [
      "/home/hariyuki/apd/lib/python2.7/site-packages/sklearn/metrics/classification.py:1145: UndefinedMetricWarning: F-score is ill-defined and being set to 0.0 in labels with no true samples.\n",
      "  'recall', 'true', average, warn_for)\n"
     ]
    },
    {
     "name": "stdout",
     "output_type": "stream",
     "text": [
      "ind=16 rank=25 time=59.21s/5.30s acc=0.9577/0.8485/0.7955 f1=0.9584/0.8508/0.7747\n",
      "rank=25_parts_model_md_snn_17.npz\n"
     ]
    },
    {
     "name": "stderr",
     "output_type": "stream",
     "text": [
      "/home/hariyuki/apd/lib/python2.7/site-packages/sklearn/metrics/classification.py:1145: UndefinedMetricWarning: F-score is ill-defined and being set to 0.0 in labels with no true samples.\n",
      "  'recall', 'true', average, warn_for)\n"
     ]
    },
    {
     "name": "stdout",
     "output_type": "stream",
     "text": [
      "ind=17 rank=25 time=60.56s/5.53s acc=0.9665/0.8354/0.8636 f1=0.9670/0.8368/0.8609\n",
      "rank=25_parts_model_md_snn_18.npz\n"
     ]
    },
    {
     "name": "stderr",
     "output_type": "stream",
     "text": [
      "/home/hariyuki/apd/lib/python2.7/site-packages/sklearn/metrics/classification.py:1145: UndefinedMetricWarning: F-score is ill-defined and being set to 0.0 in labels with no true samples.\n",
      "  'recall', 'true', average, warn_for)\n"
     ]
    },
    {
     "name": "stdout",
     "output_type": "stream",
     "text": [
      "ind=18 rank=25 time=55.62s/5.47s acc=0.9646/0.8834/0.8636 f1=0.9652/0.8866/0.8795\n",
      "rank=25_parts_model_md_snn_19.npz\n",
      "ind=19 rank=25 time=58.44s/6.34s acc=0.9644/0.8875/0.8409 f1=0.9652/0.8935/0.8317\n"
     ]
    },
    {
     "name": "stderr",
     "output_type": "stream",
     "text": [
      "/home/hariyuki/apd/lib/python2.7/site-packages/sklearn/metrics/classification.py:1145: UndefinedMetricWarning: F-score is ill-defined and being set to 0.0 in labels with no true samples.\n",
      "  'recall', 'true', average, warn_for)\n"
     ]
    }
   ],
   "source": [
    "data_dirname = '../data/'\n",
    "model_dirname = '../models/matrix_decomposition/'\n",
    "model_filename_base = 'parts_model_md_snn_'\n",
    "results_dirname = '../results/'\n",
    "\n",
    "filename_dataset = 'dataset_parts.npz'\n",
    "filename_dataset2 = 'test2_parts.npz'\n",
    "#filename_cv = 'cv_indices_parts.npz'\n",
    "filename_cv = 'physical_cv_indices_parts.npz'\n",
    "\n",
    "rank = 25\n",
    "\n",
    "df = np.load(data_dirname+filename_cv)\n",
    "test_indices, train_indices = df['test_indices'], df['train_indices']\n",
    "\n",
    "df = np.load(data_dirname+filename_dataset)\n",
    "X, y = df['data'], df['label']\n",
    "X = np.reshape(X, [X.shape[0], -1], order='F')\n",
    "\n",
    "df = np.load(data_dirname+filename_dataset2)\n",
    "X_test2, y_test2 = df['data'], df['label']\n",
    "X_test2 = np.reshape(X_test2, [X_test2.shape[0], -1], order='F')\n",
    "y_test2 = reshape(y_test2, [-1, 1])\n",
    "\n",
    "Nfeatures = X.shape[1]\n",
    "\n",
    "tms = []\n",
    "accuracies = []\n",
    "f1s = []\n",
    "confusion_matrices = []\n",
    "\n",
    "predicted_pa_test = []\n",
    "predicted_pa_test2 = []\n",
    "\n",
    "\n",
    "for ind in xrange(len(train_indices)):\n",
    "    clf = MatrixClassifierLCMS(Nfeatures, rank)\n",
    "    model_filename = 'rank='+str(rank)+'_'+model_filename_base+str(ind)+'.npz'\n",
    "    print model_filename\n",
    "    clf.loadParameters(model_dirname+model_filename)\n",
    "    \n",
    "    tic = time.clock()\n",
    "    y_train_pred = clf.predict(X[train_indices[ind]])\n",
    "    toc = time.clock()\n",
    "    tms_loc = [toc-tic]\n",
    "    acc_loc = [accuracy_score(y[train_indices[ind]], y_train_pred)]\n",
    "    f1_loc = [f1_score(y[train_indices[ind]], y_train_pred, average='weighted')]\n",
    "    \n",
    "    tic = time.clock()\n",
    "    y_test_pred, y_test_pred_explicit = clf.predict(X[test_indices[ind]], return_all=True)\n",
    "    toc = time.clock()\n",
    "    tms_loc.append(toc-tic)\n",
    "    conf_mat = confusion_matrix(\n",
    "        y[test_indices[ind]], y_test_pred, labels=np.unique(y[train_indices[ind]])\n",
    "    )\n",
    "    acc_loc.append( accuracy_score(y[test_indices[ind]], y_test_pred) )\n",
    "    f1_loc.append( f1_score(y[test_indices[ind]], y_test_pred, average='weighted') )\n",
    "    \n",
    "    y_test2_pred, y_test2_pred_explicit = clf.predict(X_test2, return_all=True)\n",
    "    acc_loc.append( accuracy_score(y_test2, y_test2_pred) )\n",
    "    f1_loc.append( f1_score(y_test2, y_test2_pred, average='weighted') )\n",
    "    \n",
    "    y_test_pred_explicit = y_test_pred_explicit.assign(TRUE=y[test_indices[ind]])\n",
    "    predicted_pa_test.append( y_test_pred_explicit.values )\n",
    "    y_test2_pred_explicit = y_test2_pred_explicit.assign(TRUE=y_test2)\n",
    "    predicted_pa_test2.append( y_test2_pred_explicit.values )\n",
    "    \n",
    "    tms.append(tms_loc)\n",
    "    confusion_matrices.append(conf_mat)\n",
    "    accuracies.append(acc_loc)\n",
    "    f1s.append(f1_loc)\n",
    "    np.savez_compressed(\n",
    "        results_dirname+'rank='+str(rank)+model_filename_base+'+CCA',\n",
    "        tms=tms, confusion_matrices=confusion_matrices, accuracies=accuracies,\n",
    "        f1s=f1s, classes=clf.classes, predicted_pa_test=predicted_pa_test,\n",
    "        predicted_pa_test2=predicted_pa_test2\n",
    "    )\n",
    "    print \"ind=%d rank=%d time=%.2fs/%.2fs acc=%.4f/%.4f/%.4f f1=%.4f/%.4f/%.4f\" % (\n",
    "        ind, rank, tms[-1][0], tms[-1][1], acc_loc[0], acc_loc[1], acc_loc[2],\n",
    "        f1_loc[0], f1_loc[1], f1_loc[2]\n",
    "    )"
   ]
  },
  {
   "cell_type": "markdown",
   "metadata": {},
   "source": [
    "### 4. Results\n",
    "\n",
    "[Back to contents](#Contents)"
   ]
  },
  {
   "cell_type": "code",
   "execution_count": 4,
   "metadata": {},
   "outputs": [
    {
     "name": "stdout",
     "output_type": "stream",
     "text": [
      "Median accuracy: train=0.9645 test=0.8720 test2=0.8409\n",
      "Median F1: train=0.9652 test=0.8745 test2=0.8429\n"
     ]
    },
    {
     "data": {
      "image/png": "[encoded data removed]",
      "text/plain": [
       "<matplotlib.figure.Figure at 0x7f466a654a90>"
      ]
     },
     "metadata": {},
     "output_type": "display_data"
    }
   ],
   "source": [
    "results_dirname = '../results/'\n",
    "model_filename_base = 'parts_model_md_snn_'\n",
    "results_filename = 'rank='+str(rank)+model_filename_base+'+CCA.npz'\n",
    "df = np.load(results_dirname+results_filename)\n",
    "accuracies = df['accuracies']\n",
    "f1s = df['f1s']\n",
    "cms = df['confusion_matrices']\n",
    "\n",
    "\n",
    "medAcc = np.median(accuracies, axis=0)\n",
    "medF1 = np.median(f1s, axis=0)\n",
    "medCMs = np.median(cms, axis=0)\n",
    "\n",
    "print 'Median accuracy: train=%.4f test=%.4f test2=%.4f' % (medAcc[0], medAcc[1], medAcc[2])\n",
    "print 'Median F1: train=%.4f test=%.4f test2=%.4f' % (medF1[0], medF1[1], medF1[2])\n",
    "clsnms = ['bark', 'buds', 'flowers', 'fructus', 'leaves', 'roots', 'roots,\\n rhizomes', 'seeds']\n",
    "df = pd.DataFrame(medCMs, columns=clsnms)\n",
    "df['names'] = clsnms\n",
    "df = df.set_index('names')\n",
    "medCMs /= np.sum(medCMs, axis=1, keepdims=True)\n",
    "msk1 = medCMs.copy()\n",
    "np.fill_diagonal(msk1, 0.)\n",
    "sns.heatmap(\n",
    "    medCMs, annot=True, vmin=msk1.min(), vmax=1.05*msk1.max(),\n",
    "    xticklabels=clsnms, yticklabels=clsnms, cbar=None,\n",
    "    fmt='.2f', cmap='gist_heat', #mask=np.eye(len(clsnms))\n",
    ")\n",
    "plt.savefig('parts_snmf.pdf')"
   ]
  },
  {
   "cell_type": "code",
   "execution_count": 5,
   "metadata": {},
   "outputs": [
    {
     "name": "stdout",
     "output_type": "stream",
     "text": [
      "Median accuracy: train=0.9640 test=0.8720 test2=0.8409\n",
      "Median F1: train=0.9649 test=0.8741 test2=0.8445\n"
     ]
    },
    {
     "data": {
      "image/png": "[encoded data removed]",
      "text/plain": [
       "<matplotlib.figure.Figure at 0x7f47f74ad410>"
      ]
     },
     "metadata": {},
     "output_type": "display_data"
    }
   ],
   "source": []
  },
  {
   "cell_type": "code",
   "execution_count": null,
   "metadata": {},
   "outputs": [],
   "source": []
  },
  {
   "cell_type": "code",
   "execution_count": null,
   "metadata": {},
   "outputs": [],
   "source": []
  },
  {
   "cell_type": "code",
   "execution_count": null,
   "metadata": {},
   "outputs": [],
   "source": []
  },
  {
   "cell_type": "code",
   "execution_count": null,
   "metadata": {},
   "outputs": [],
   "source": []
  },
  {
   "cell_type": "code",
   "execution_count": null,
   "metadata": {},
   "outputs": [],
   "source": []
  }
 ],
 "metadata": {
  "kernelspec": {
   "display_name": "Python 2",
   "language": "python",
   "name": "python2"
  },
  "language_info": {
   "codemirror_mode": {
    "name": "ipython",
    "version": 2
   },
   "file_extension": ".py",
   "mimetype": "text/x-python",
   "name": "python",
   "nbconvert_exporter": "python",
   "pygments_lexer": "ipython2",
   "version": "2.7.15"
  }
 },
 "nbformat": 4,
 "nbformat_minor": 2
}
