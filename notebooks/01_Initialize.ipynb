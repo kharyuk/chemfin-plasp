{
 "cells": [
  {
   "cell_type": "markdown",
   "metadata": {},
   "source": [
    "# Initialization"
   ]
  },
  {
   "cell_type": "markdown",
   "metadata": {},
   "source": [
    "This notebook contains commands for all necessary preparations between training models:\n",
    "\n",
    "- concatenate data into 3 datasets (train, test1, test2);\n",
    "- produce labels for cross-validation\n",
    "\n",
    "Note: indices for train/test splits are already provided with this repository, but user may recompute it."
   ]
  },
  {
   "cell_type": "markdown",
   "metadata": {},
   "source": [
    "### Data preparation\n",
    "\n",
    "Filter inappropriate samples (blanks, etc) from dataset, map labels of low-sampled identities to '-1' class."
   ]
  },
  {
   "cell_type": "code",
   "execution_count": 1,
   "metadata": {
    "scrolled": true
   },
   "outputs": [
    {
     "name": "stdout",
     "output_type": "stream",
     "text": [
      "<LCMS-IT-TOF.npz> successfully filtered into <dataset>\n",
      "<test2>: successfully concatenated.\n",
      "<LCMS-IT-TOF.npz>: successfully filtered into <dataset_without_moc>.\n"
     ]
    }
   ],
   "source": [
    "import numpy as np\n",
    "import sys\n",
    "sys.path.append('../src/')\n",
    "\n",
    "from initialization import concatenateSeparateToOneDF\n",
    "from initialization import filterLabels\n",
    "\n",
    "dirname = '../data/'\n",
    "save_filename = 'dataset'\n",
    "save_filename2 = 'test2'\n",
    "save_filename_without_moc = 'dataset_without_moc'\n",
    "\n",
    "main_dataset_filename = 'LCMS-IT-TOF.npz'\n",
    "\n",
    "filterLabels(main_dataset_filename, dirname, min_count=20, save_filename=save_filename)\n",
    "print \"<%s> successfully filtered into <%s>\" % (main_dataset_filename, save_filename)\n",
    "\n",
    "additional_dataset_filenames = [\n",
    "    'LCMS-IT-TOF_water.npz', 'LCMS-IT-TOF_methanol.npz', \n",
    "    'Agilent_QqQ_water.npz', 'Agilent_QqQ_methanol.npz', 'Agilent_QqQ_ethanol.npz'\n",
    "]\n",
    "\n",
    "concatenateSeparateToOneDF(additional_dataset_filenames, dirname, save_filename2)\n",
    "print \"<%s>: successfully concatenated.\" % (save_filename2)\n",
    "\n",
    "filterLabels(main_dataset_filename, dirname, min_count=1, save_filename=save_filename_without_moc)\n",
    "print \"<%s>: successfully filtered into <%s>.\" % (main_dataset_filename, save_filename_without_moc)"
   ]
  },
  {
   "cell_type": "code",
   "execution_count": 11,
   "metadata": {},
   "outputs": [
    {
     "name": "stdout",
     "output_type": "stream",
     "text": [
      "76\n"
     ]
    }
   ],
   "source": [
    "df = np.load(dirname+save_filename_without_moc+'.npz')\n",
    "#df = np.load(dirname+main_dataset_filename)\n",
    "l = df['label']\n",
    "print len(np.unique(l))"
   ]
  },
  {
   "cell_type": "markdown",
   "metadata": {},
   "source": [
    "### Cross validation index generation\n",
    "\n",
    "Generate indices for repeated K-fold CV."
   ]
  },
  {
   "cell_type": "code",
   "execution_count": 2,
   "metadata": {},
   "outputs": [
    {
     "name": "stdout",
     "output_type": "stream",
     "text": [
      "5-times repeated 5-fold splits are generated and saved to <cv_indices> in <../data/> directory\n"
     ]
    }
   ],
   "source": [
    "import numpy as np\n",
    "import os\n",
    "import sys\n",
    "sys.path.append('../src/')\n",
    "\n",
    "from initialization import concatenateSeparateToOneDF\n",
    "from initialization import filterLabels\n",
    "from initialization import generateRandomizedKFoldedSet\n",
    "\n",
    "dirname = '../data/'\n",
    "filename = 'dataset.npz'\n",
    "filename_cv = 'cv_indices'\n",
    "\n",
    "n_splits = 5\n",
    "n_repeats = 5\n",
    "# next variable must guarantee the quivalence of generated splits and ones used in our research\n",
    "random_state = 235\n",
    "\n",
    "try:\n",
    "    df = np.load(dirname+filename)\n",
    "    X, y = df['data'], df['label']\n",
    "    i1, i2 = generateRandomizedKFoldedSet(\n",
    "        X, y, n_splits, n_repeats, random_state, filename_cv,\n",
    "        dirname, return_result=1\n",
    "    )\n",
    "    print '%d-times repeated %d-fold splits are generated and saved to <%s> in <%s> directory' % (\n",
    "        n_repeats, n_splits, filename_cv, dirname\n",
    "    )\n",
    "except:\n",
    "    print \"No file %s in %s directory.\" % (filename, dirname)\n",
    "    print \"Please run data preparation code from above section .\""
   ]
  },
  {
   "cell_type": "markdown",
   "metadata": {},
   "source": [
    "### Cross validation index generation: predict part of plants\n",
    "\n",
    "Generate indices for repeated K-fold CV."
   ]
  },
  {
   "cell_type": "code",
   "execution_count": 3,
   "metadata": {},
   "outputs": [
    {
     "name": "stdout",
     "output_type": "stream",
     "text": [
      "5-times repeated 5-fold splits are generated and saved to <cv_indices_parts> in <../data/> directory\n"
     ]
    }
   ],
   "source": [
    "import numpy as np\n",
    "import sys\n",
    "import pandas as pd\n",
    "from sklearn.preprocessing import LabelEncoder\n",
    "from sklearn.model_selection import RepeatedStratifiedKFold\n",
    "sys.path.append('../src/')\n",
    "\n",
    "dirname = '../data/'\n",
    "filename_without_moc = 'dataset_without_moc.npz'\n",
    "filename_without_moc_parts = 'dataset_parts.npz'\n",
    "filename_test2 = 'test2.npz'\n",
    "filename_test2_parts = 'test2_parts'\n",
    "filename_without_moc_parts_cv = 'cv_indices_parts'\n",
    "species_filename = 'species.csv'\n",
    "\n",
    "n_splits = 5\n",
    "n_repeats = 5\n",
    "# next variable must guarantee the quivalence of generated splits and ones used\n",
    "# in our research\n",
    "random_state = 235\n",
    "\n",
    "try:\n",
    "    df = pd.read_csv(dirname+species_filename)\n",
    "    labelMapper = {}\n",
    "    for k in xrange(len(df)):\n",
    "        labelMapper[df.iloc[k, 0]] = df.iloc[k, -1]\n",
    "except:\n",
    "    print \"No file %s in %s directory.\" % (species_filename, dirname)\n",
    "\n",
    "try:\n",
    "    df = np.load(dirname+filename_without_moc)\n",
    "except:\n",
    "    print \"No file %s in %s directory.\" % (filename_without_moc, dirname)\n",
    "    print \"Please run data preparation code from above section .\"\n",
    "    \n",
    "    \n",
    "X, y = df['data'], df['label']\n",
    "y_new = map(lambda x: labelMapper[x], y)\n",
    "labelEncoder = LabelEncoder()\n",
    "y_new = labelEncoder.fit_transform(y_new)\n",
    "class_names = labelEncoder.classes_\n",
    "np.savez_compressed(\n",
    "    dirname+filename_without_moc_parts, data=X, label=y_new\n",
    ")\n",
    "\n",
    "try:\n",
    "    df = np.load(dirname+filename_test2)\n",
    "except:\n",
    "    print \"No file %s in %s directory.\" % (filename_test2, dirname)\n",
    "    print \"Please run data preparation code from above section .\"\n",
    "\n",
    "Xtest2, ytest2 = df['data'], df['label']\n",
    "ytest2_new = map(lambda x: labelMapper[x], ytest2)\n",
    "ytest2_new = labelEncoder.transform(ytest2_new)\n",
    "class_names = labelEncoder.classes_\n",
    "np.savez_compressed(\n",
    "    dirname+filename_test2_parts, data=Xtest2, label=ytest2_new\n",
    ")\n",
    "\n",
    "\n",
    "kfold = RepeatedStratifiedKFold(\n",
    "    n_splits=n_splits, n_repeats=n_repeats, random_state=random_state\n",
    ")\n",
    "train_indices = []\n",
    "test_indices = []\n",
    "for train_index, test_index in kfold.split(X, y_new):\n",
    "    train_indices.append(train_index)\n",
    "    test_indices.append(test_index)\n",
    "\n",
    "np.savez_compressed(\n",
    "    dirname+filename_without_moc_parts_cv, n_splits=n_splits, n_repeats=n_repeats,\n",
    "    random_state=random_state,\n",
    "    train_indices=train_indices, test_indices=test_indices, class_names=class_names\n",
    ")\n",
    "print '%d-times repeated %d-fold splits are generated and saved to <%s> in <%s> directory' % (\n",
    "    n_repeats, n_splits, filename_without_moc_parts_cv, dirname\n",
    ")"
   ]
  },
  {
   "cell_type": "markdown",
   "metadata": {},
   "source": [
    "[Reopen contents](../chemfin.ipynb)"
   ]
  }
 ],
 "metadata": {
  "kernelspec": {
   "display_name": "Python 2",
   "language": "python",
   "name": "python2"
  },
  "language_info": {
   "codemirror_mode": {
    "name": "ipython",
    "version": 2
   },
   "file_extension": ".py",
   "mimetype": "text/x-python",
   "name": "python",
   "nbconvert_exporter": "python",
   "pygments_lexer": "ipython2",
   "version": "2.7.14"
  }
 },
 "nbformat": 4,
 "nbformat_minor": 2
}
