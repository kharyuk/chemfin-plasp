{
 "cells": [
  {
   "cell_type": "markdown",
   "metadata": {},
   "source": [
    "# SNTD approach: predict part of plant"
   ]
  },
  {
   "cell_type": "markdown",
   "metadata": {},
   "source": [
    "## Contents\n",
    "- [1. Imports](#1.-Imports)\n",
    "- [2. Compute models](#2.-Compute-models)\n",
    "- [3. Predicting parts of plants](#3.-Predicting-parts-of-plants)\n",
    "- [4. Results](#4.-Results)\n",
    "\n",
    "\n",
    "[Back to Chemfin](../Chemfin.ipynb)"
   ]
  },
  {
   "cell_type": "markdown",
   "metadata": {},
   "source": [
    "### 1. Imports\n",
    "\n",
    "[Back to contents](#Contents)"
   ]
  },
  {
   "cell_type": "code",
   "execution_count": 5,
   "metadata": {},
   "outputs": [
    {
     "name": "stdout",
     "output_type": "stream",
     "text": [
      "env: OMP_NUM_THREADS=4\n",
      "env: MKL_NUM_THREADS=4\n"
     ]
    }
   ],
   "source": [
    "%env OMP_NUM_THREADS=4\n",
    "%env MKL_NUM_THREADS=4\n",
    "import sys\n",
    "sys.path.append('../src/')\n",
    "\n",
    "from computational_utils import reshape\n",
    "\n",
    "import numpy as np\n",
    "import pandas as pd\n",
    "import copy\n",
    "import time\n",
    "import scipy\n",
    "\n",
    "from sklearn.metrics import accuracy_score\n",
    "\n",
    "from tucker import estimateMzPolarityFactors\n",
    "from tucker import TuckerClassifierLCMS\n",
    "\n",
    "\n",
    "from sklearn.metrics import accuracy_score\n",
    "from sklearn.metrics import f1_score\n",
    "from sklearn.metrics import confusion_matrix\n",
    "\n",
    "import seaborn as sns\n",
    "import matplotlib.pyplot as plt\n",
    "%matplotlib inline"
   ]
  },
  {
   "cell_type": "markdown",
   "metadata": {},
   "source": [
    "### 2. Compute models\n",
    "\n",
    "[Back to contents](#Contents)"
   ]
  },
  {
   "cell_type": "code",
   "execution_count": null,
   "metadata": {},
   "outputs": [
    {
     "name": "stdout",
     "output_type": "stream",
     "text": [
      "ind=0 rank=25 time=15701.37s\n",
      "ind=1 rank=25 time=17990.68s\n",
      "ind=2 rank=25 time=17402.70s\n",
      "ind=3 rank=25 time=20539.26s\n",
      "ind=4 rank=25 time=21996.53s\n"
     ]
    }
   ],
   "source": [
    "data_dirname = '../data/'\n",
    "model_dirname = '../models/tucker_decomposition/'\n",
    "model_filename_prefix = 'parts_model_td_snn'\n",
    "\n",
    "filename_dataset = 'dataset_parts.npz'\n",
    "#filename_cv = 'cv_indices_parts.npz'\n",
    "filename_cv = 'physical_cv_indices_parts.npz'\n",
    "\n",
    "\n",
    "maxitnum = 1000\n",
    "\n",
    "rank_mz = 25\n",
    "rank_pol = 2\n",
    "\n",
    "r = [rank_mz, rank_pol]\n",
    "\n",
    "df = np.load(data_dirname+filename_cv)\n",
    "test_indices, train_indices = df['test_indices'], df['train_indices']\n",
    "\n",
    "df = np.load(data_dirname+filename_dataset)\n",
    "X, y = df['data'], df['label']\n",
    "Nmz = X.shape[1]\n",
    "\n",
    "tms = []\n",
    "for ind in xrange(len(train_indices)):\n",
    "    clf = TuckerClassifierLCMS(Nmz, r, maxitnum=maxitnum)\n",
    "    tic = time.clock()\n",
    "    clf.fit(X[train_indices[ind]], y[train_indices[ind]], verbose=0)\n",
    "    toc = time.clock()\n",
    "    tms.append(toc-tic)\n",
    "    clf.saveParameters(model_dirname+'rank='+str(rank_mz)+'_'+model_filename_prefix+'_'+str(ind))\n",
    "    np.savez_compressed(\n",
    "        model_dirname+'rank='+str(rank_mz)+'_times_train_'+model_filename_prefix,\n",
    "        tms=tms\n",
    "    )\n",
    "    print \"ind=%d rank=%d time=%.2fs\" % (\n",
    "        ind, rank_mz, tms[-1]\n",
    "    )"
   ]
  },
  {
   "cell_type": "markdown",
   "metadata": {},
   "source": [
    "### 3. Predicting parts of plants\n",
    "\n",
    "[Back to contents](#Contents)"
   ]
  },
  {
   "cell_type": "code",
   "execution_count": 3,
   "metadata": {},
   "outputs": [
    {
     "name": "stdout",
     "output_type": "stream",
     "text": [
      "rank=25_parts_model_td_snn_0.npz\n",
      "ind=0 rank=25 time=55.73s/5.45s acc=0.8881/0.7939/0.8864 f1=0.8906/0.7988/0.8876\n",
      "rank=25_parts_model_td_snn_1.npz\n"
     ]
    },
    {
     "name": "stderr",
     "output_type": "stream",
     "text": [
      "/home/hariyuki/apd/lib/python2.7/site-packages/sklearn/metrics/classification.py:1145: UndefinedMetricWarning: F-score is ill-defined and being set to 0.0 in labels with no true samples.\n",
      "  'recall', 'true', average, warn_for)\n"
     ]
    },
    {
     "name": "stdout",
     "output_type": "stream",
     "text": [
      "ind=1 rank=25 time=55.82s/5.37s acc=0.9101/0.7378/0.7955 f1=0.9123/0.7340/0.8019\n",
      "rank=25_parts_model_td_snn_2.npz\n"
     ]
    },
    {
     "name": "stderr",
     "output_type": "stream",
     "text": [
      "/home/hariyuki/apd/lib/python2.7/site-packages/sklearn/metrics/classification.py:1145: UndefinedMetricWarning: F-score is ill-defined and being set to 0.0 in labels with no true samples.\n",
      "  'recall', 'true', average, warn_for)\n"
     ]
    },
    {
     "name": "stdout",
     "output_type": "stream",
     "text": [
      "ind=2 rank=25 time=57.28s/5.53s acc=0.9266/0.8037/0.7500 f1=0.9286/0.8103/0.7624\n",
      "rank=25_parts_model_td_snn_3.npz\n"
     ]
    },
    {
     "name": "stderr",
     "output_type": "stream",
     "text": [
      "/home/hariyuki/apd/lib/python2.7/site-packages/sklearn/metrics/classification.py:1145: UndefinedMetricWarning: F-score is ill-defined and being set to 0.0 in labels with no true samples.\n",
      "  'recall', 'true', average, warn_for)\n"
     ]
    },
    {
     "name": "stdout",
     "output_type": "stream",
     "text": [
      "ind=3 rank=25 time=63.01s/5.26s acc=0.9020/0.8250/0.7955 f1=0.9057/0.8327/0.8195\n",
      "rank=25_parts_model_td_snn_4.npz\n",
      "ind=4 rank=25 time=56.74s/5.50s acc=0.9169/0.8788/0.8636 f1=0.9191/0.8818/0.8614\n",
      "rank=25_parts_model_td_snn_5.npz\n"
     ]
    },
    {
     "name": "stderr",
     "output_type": "stream",
     "text": [
      "/home/hariyuki/apd/lib/python2.7/site-packages/sklearn/metrics/classification.py:1145: UndefinedMetricWarning: F-score is ill-defined and being set to 0.0 in labels with no true samples.\n",
      "  'recall', 'true', average, warn_for)\n"
     ]
    },
    {
     "name": "stdout",
     "output_type": "stream",
     "text": [
      "ind=5 rank=25 time=56.71s/5.42s acc=0.9116/0.7317/0.8636 f1=0.9135/0.7447/0.8741\n",
      "rank=25_parts_model_td_snn_6.npz\n"
     ]
    },
    {
     "name": "stderr",
     "output_type": "stream",
     "text": [
      "/home/hariyuki/apd/lib/python2.7/site-packages/sklearn/metrics/classification.py:1145: UndefinedMetricWarning: F-score is ill-defined and being set to 0.0 in labels with no true samples.\n",
      "  'recall', 'true', average, warn_for)\n"
     ]
    },
    {
     "name": "stdout",
     "output_type": "stream",
     "text": [
      "ind=6 rank=25 time=61.34s/5.48s acc=0.9074/0.7546/0.8409 f1=0.9101/0.7617/0.8535\n",
      "rank=25_parts_model_td_snn_7.npz\n"
     ]
    },
    {
     "name": "stderr",
     "output_type": "stream",
     "text": [
      "/home/hariyuki/apd/lib/python2.7/site-packages/sklearn/metrics/classification.py:1145: UndefinedMetricWarning: F-score is ill-defined and being set to 0.0 in labels with no true samples.\n",
      "  'recall', 'true', average, warn_for)\n"
     ]
    },
    {
     "name": "stdout",
     "output_type": "stream",
     "text": [
      "ind=7 rank=25 time=60.71s/4.97s acc=0.9169/0.7750/0.8636 f1=0.9200/0.7843/0.8836\n",
      "rank=25_parts_model_td_snn_8.npz\n",
      "ind=8 rank=25 time=62.74s/5.95s acc=0.8991/0.7818/0.7955 f1=0.9019/0.7864/0.8050\n",
      "rank=25_parts_model_td_snn_9.npz\n",
      "ind=9 rank=25 time=56.89s/5.43s acc=0.8937/0.7561/0.8864 f1=0.8971/0.7673/0.8862\n",
      "rank=25_parts_model_td_snn_10.npz\n"
     ]
    },
    {
     "name": "stderr",
     "output_type": "stream",
     "text": [
      "/home/hariyuki/apd/lib/python2.7/site-packages/sklearn/metrics/classification.py:1145: UndefinedMetricWarning: F-score is ill-defined and being set to 0.0 in labels with no true samples.\n",
      "  'recall', 'true', average, warn_for)\n"
     ]
    },
    {
     "name": "stdout",
     "output_type": "stream",
     "text": [
      "ind=10 rank=25 time=55.73s/5.36s acc=0.9046/0.8466/0.7727 f1=0.9074/0.8498/0.7940\n",
      "rank=25_parts_model_td_snn_11.npz\n"
     ]
    },
    {
     "name": "stderr",
     "output_type": "stream",
     "text": [
      "/home/hariyuki/apd/lib/python2.7/site-packages/sklearn/metrics/classification.py:1145: UndefinedMetricWarning: F-score is ill-defined and being set to 0.0 in labels with no true samples.\n",
      "  'recall', 'true', average, warn_for)\n"
     ]
    },
    {
     "name": "stdout",
     "output_type": "stream",
     "text": [
      "ind=11 rank=25 time=55.23s/5.45s acc=0.8942/0.7812/0.8636 f1=0.8970/0.7851/0.8786\n",
      "rank=25_parts_model_td_snn_12.npz\n"
     ]
    },
    {
     "name": "stderr",
     "output_type": "stream",
     "text": [
      "/home/hariyuki/apd/lib/python2.7/site-packages/sklearn/metrics/classification.py:1145: UndefinedMetricWarning: F-score is ill-defined and being set to 0.0 in labels with no true samples.\n",
      "  'recall', 'true', average, warn_for)\n"
     ]
    },
    {
     "name": "stdout",
     "output_type": "stream",
     "text": [
      "ind=12 rank=25 time=58.64s/5.70s acc=0.8910/0.7879/0.8409 f1=0.8949/0.7947/0.8592\n",
      "rank=25_parts_model_td_snn_13.npz\n",
      "ind=13 rank=25 time=62.88s/6.00s acc=0.9312/0.8171/0.8409 f1=0.9328/0.8253/0.8443\n",
      "rank=25_parts_model_td_snn_14.npz\n",
      "ind=14 rank=25 time=63.85s/6.34s acc=0.9026/0.8098/0.8409 f1=0.9047/0.8181/0.8428\n",
      "rank=25_parts_model_td_snn_15.npz\n",
      "ind=15 rank=25 time=62.72s/5.34s acc=0.8864/0.8063/0.8636 f1=0.8908/0.8105/0.8755\n",
      "rank=25_parts_model_td_snn_16.npz\n"
     ]
    },
    {
     "name": "stderr",
     "output_type": "stream",
     "text": [
      "/home/hariyuki/apd/lib/python2.7/site-packages/sklearn/metrics/classification.py:1145: UndefinedMetricWarning: F-score is ill-defined and being set to 0.0 in labels with no true samples.\n",
      "  'recall', 'true', average, warn_for)\n"
     ]
    },
    {
     "name": "stdout",
     "output_type": "stream",
     "text": [
      "ind=16 rank=25 time=56.75s/5.10s acc=0.8803/0.8000/0.9091 f1=0.8853/0.8131/0.9198\n",
      "rank=25_parts_model_td_snn_17.npz\n",
      "ind=17 rank=25 time=57.10s/5.46s acc=0.9092/0.7988/0.8182 f1=0.9115/0.8056/0.8202\n",
      "rank=25_parts_model_td_snn_18.npz\n"
     ]
    },
    {
     "name": "stderr",
     "output_type": "stream",
     "text": [
      "/home/hariyuki/apd/lib/python2.7/site-packages/sklearn/metrics/classification.py:1145: UndefinedMetricWarning: F-score is ill-defined and being set to 0.0 in labels with no true samples.\n",
      "  'recall', 'true', average, warn_for)\n"
     ]
    },
    {
     "name": "stdout",
     "output_type": "stream",
     "text": [
      "ind=18 rank=25 time=55.92s/5.03s acc=0.9203/0.8282/0.8864 f1=0.9235/0.8338/0.8962\n",
      "rank=25_parts_model_td_snn_19.npz\n",
      "ind=19 rank=25 time=58.22s/5.34s acc=0.9230/0.8250/0.8182 f1=0.9256/0.8276/0.8094\n"
     ]
    }
   ],
   "source": [
    "data_dirname = '../data/'\n",
    "model_dirname = '../models/tucker_decomposition/'\n",
    "model_filename_base = 'parts_model_td_snn_'\n",
    "results_dirname = '../results/'\n",
    "\n",
    "filename_dataset = 'dataset_parts.npz'\n",
    "filename_dataset2 = 'test2_parts.npz'\n",
    "#filename_cv = 'cv_indices_parts.npz'\n",
    "filename_cv = 'physical_cv_indices_parts.npz'\n",
    "\n",
    "\n",
    "rank_mz = 25\n",
    "rank_pol = 2\n",
    "\n",
    "r = [rank_mz, rank_pol]\n",
    "\n",
    "df = np.load(data_dirname+filename_cv)\n",
    "test_indices, train_indices = df['test_indices'], df['train_indices']\n",
    "\n",
    "df = np.load(data_dirname+filename_dataset)\n",
    "X, y = df['data'], df['label']\n",
    "#X = np.reshape(X, [X.shape[0], -1], order='F')\n",
    "\n",
    "df = np.load(data_dirname+filename_dataset2)\n",
    "X_test2, y_test2 = df['data'], df['label']\n",
    "y_test2 = reshape(y_test2, [-1, 1])\n",
    "\n",
    "Nmz = X.shape[1]\n",
    "\n",
    "tms = []\n",
    "accuracies = []\n",
    "f1s = []\n",
    "confusion_matrices = []\n",
    "\n",
    "predicted_pa_test = []\n",
    "predicted_pa_test2 = []\n",
    "\n",
    "for ind in xrange(len(train_indices)):\n",
    "    clf = TuckerClassifierLCMS(Nmz, r)\n",
    "    model_filename = 'rank='+str(rank_mz)+'_'+model_filename_base+str(ind)+'.npz'\n",
    "    print model_filename\n",
    "    clf.loadParameters(model_dirname+model_filename)\n",
    "    \n",
    "    tic = time.clock()\n",
    "    y_train_pred = clf.predict(X[train_indices[ind]])\n",
    "    toc = time.clock()\n",
    "    tms_loc = [toc-tic]\n",
    "    acc_loc = [accuracy_score(y[train_indices[ind]], y_train_pred)]\n",
    "    f1_loc = [f1_score(y[train_indices[ind]], y_train_pred, average='weighted')]\n",
    "    \n",
    "    tic = time.clock()\n",
    "    y_test_pred, y_test_pred_explicit = clf.predict(X[test_indices[ind]], return_all=True)\n",
    "    toc = time.clock()\n",
    "    tms_loc.append(toc-tic)\n",
    "    conf_mat = confusion_matrix(y[test_indices[ind]], y_test_pred)\n",
    "    acc_loc.append( accuracy_score(y[test_indices[ind]], y_test_pred) )\n",
    "    f1_loc.append( f1_score(y[test_indices[ind]], y_test_pred, average='weighted') )\n",
    "    \n",
    "    y_test2_pred, y_test2_pred_explicit = clf.predict(X_test2, return_all=True)\n",
    "    acc_loc.append( accuracy_score(y_test2, y_test2_pred) )\n",
    "    f1_loc.append( f1_score(y_test2, y_test2_pred, average='weighted') )\n",
    "    \n",
    "    y_test_pred_explicit = y_test_pred_explicit.assign(TRUE=y[test_indices[ind]])\n",
    "    predicted_pa_test.append( y_test_pred_explicit.values )\n",
    "    y_test2_pred_explicit = y_test2_pred_explicit.assign(TRUE=y_test2)\n",
    "    predicted_pa_test2.append( y_test2_pred_explicit.values )\n",
    "    \n",
    "    tms.append(tms_loc)\n",
    "    confusion_matrices.append(conf_mat)\n",
    "    accuracies.append(acc_loc)\n",
    "    f1s.append(f1_loc)\n",
    "    np.savez_compressed(\n",
    "        results_dirname+'rank='+str(rank_mz)+model_filename_base+'+CCA',\n",
    "        tms=tms, confusion_matrices=confusion_matrices, accuracies=accuracies,\n",
    "        f1s=f1s, classes=clf.classes, predicted_pa_test=predicted_pa_test,\n",
    "        predicted_pa_test2=predicted_pa_test2\n",
    "    )\n",
    "    print \"ind=%d rank=%d time=%.2fs/%.2fs acc=%.4f/%.4f/%.4f f1=%.4f/%.4f/%.4f\" % (\n",
    "        ind, rank_mz, tms[-1][0], tms[-1][1], acc_loc[0], acc_loc[1], acc_loc[2],\n",
    "        f1_loc[0], f1_loc[1], f1_loc[2]\n",
    "    )"
   ]
  },
  {
   "cell_type": "markdown",
   "metadata": {},
   "source": [
    "### 4. Results\n",
    "\n",
    "[Back to contents](#Contents)"
   ]
  },
  {
   "cell_type": "code",
   "execution_count": 6,
   "metadata": {},
   "outputs": [
    {
     "name": "stdout",
     "output_type": "stream",
     "text": [
      "Median accuracy: train=0.9060 test=0.7994 test2=0.8409\n",
      "Median F1: train=0.9087 test=0.8080 test2=0.8563\n"
     ]
    },
    {
     "data": {
      "image/png": "[encoded data removed]",
      "text/plain": [
       "<matplotlib.figure.Figure at 0x7f71bc513c50>"
      ]
     },
     "metadata": {},
     "output_type": "display_data"
    }
   ],
   "source": [
    "\n",
    "results_dirname = '../results/'\n",
    "model_filename_base = 'parts_model_td_snn_'\n",
    "results_filename = 'rank='+str(rank_mz)+model_filename_base+'+CCA.npz'\n",
    "df = np.load(results_dirname+results_filename)\n",
    "accuracies = df['accuracies']\n",
    "f1s = df['f1s']\n",
    "cms = df['confusion_matrices']\n",
    "\n",
    "\n",
    "medAcc = np.median(accuracies, axis=0)\n",
    "medF1 = np.median(f1s, axis=0)\n",
    "medCMs = np.median(cms, axis=0)\n",
    "\n",
    "print 'Median accuracy: train=%.4f test=%.4f test2=%.4f' % (medAcc[0], medAcc[1], medAcc[2])\n",
    "print 'Median F1: train=%.4f test=%.4f test2=%.4f' % (medF1[0], medF1[1], medF1[2])\n",
    "clsnms = ['bark', 'buds', 'flowers', 'fructus', 'leaves', 'roots', 'roots,\\n rhizomes', 'seeds']\n",
    "df = pd.DataFrame(medCMs, columns=clsnms)\n",
    "df['names'] = clsnms\n",
    "df = df.set_index('names')\n",
    "medCMs /= np.sum(medCMs, axis=1, keepdims=True)\n",
    "msk1 = medCMs.copy()\n",
    "np.fill_diagonal(msk1, 0.)\n",
    "sns.heatmap(\n",
    "    medCMs, annot=True, vmin=msk1.min(), vmax=1.05*msk1.max(),\n",
    "    xticklabels=clsnms, yticklabels=clsnms, cbar=None,\n",
    "    fmt='.2f', cmap='gist_heat', #mask=np.eye(len(clsnms))\n",
    ")\n",
    "plt.savefig('parts_sntd.pdf')"
   ]
  },
  {
   "cell_type": "code",
   "execution_count": 6,
   "metadata": {},
   "outputs": [
    {
     "name": "stdout",
     "output_type": "stream",
     "text": [
      "Median accuracy: train=0.9060 test=0.7994 test2=0.8409\n",
      "Median F1: train=0.9087 test=0.8080 test2=0.8563\n"
     ]
    },
    {
     "data": {
      "image/png": "[encoded data removed]",
      "text/plain": [
       "<matplotlib.figure.Figure at 0x7f78b66fdf50>"
      ]
     },
     "metadata": {},
     "output_type": "display_data"
    }
   ],
   "source": [
    "\n",
    "results_dirname = '../results/'\n",
    "model_filename_base = 'parts_model_td_snn_'\n",
    "results_filename = 'rank='+str(rank_mz)+model_filename_base+'+CCA.npz'\n",
    "df = np.load(results_dirname+results_filename)\n",
    "accuracies = df['accuracies']\n",
    "f1s = df['f1s']\n",
    "cms = df['confusion_matrices']\n",
    "\n",
    "\n",
    "medAcc = np.median(accuracies, axis=0)\n",
    "medF1 = np.median(f1s, axis=0)\n",
    "medCMs = np.median(cms, axis=0)\n",
    "\n",
    "print 'Median accuracy: train=%.4f test=%.4f test2=%.4f' % (medAcc[0], medAcc[1], medAcc[2])\n",
    "print 'Median F1: train=%.4f test=%.4f test2=%.4f' % (medF1[0], medF1[1], medF1[2])\n",
    "clsnms = ['bark', 'buds', 'flowers', 'fructus', 'leaves', 'roots', 'roots,\\n rhizomes', 'seeds']\n",
    "df = pd.DataFrame(medCMs, columns=clsnms)\n",
    "df['names'] = clsnms\n",
    "df = df.set_index('names')\n",
    "medCMs /= np.sum(medCMs, axis=1, keepdims=True)\n",
    "msk1 = medCMs.copy()\n",
    "np.fill_diagonal(msk1, 0.)\n",
    "sns.heatmap(\n",
    "    medCMs, annot=True, vmin=msk1.min(), vmax=1.05*msk1.max(),\n",
    "    xticklabels=clsnms, yticklabels=clsnms, cbar=None,\n",
    "    fmt='.2f', cmap='gist_heat', #mask=np.eye(len(clsnms))\n",
    ")\n",
    "plt.savefig('parts_sntd.pdf')"
   ]
  },
  {
   "cell_type": "code",
   "execution_count": null,
   "metadata": {},
   "outputs": [],
   "source": []
  },
  {
   "cell_type": "code",
   "execution_count": null,
   "metadata": {},
   "outputs": [],
   "source": []
  },
  {
   "cell_type": "code",
   "execution_count": null,
   "metadata": {},
   "outputs": [],
   "source": []
  },
  {
   "cell_type": "code",
   "execution_count": null,
   "metadata": {},
   "outputs": [],
   "source": []
  },
  {
   "cell_type": "code",
   "execution_count": null,
   "metadata": {},
   "outputs": [],
   "source": []
  },
  {
   "cell_type": "code",
   "execution_count": null,
   "metadata": {},
   "outputs": [],
   "source": []
  },
  {
   "cell_type": "code",
   "execution_count": null,
   "metadata": {},
   "outputs": [],
   "source": []
  }
 ],
 "metadata": {
  "kernelspec": {
   "display_name": "Python 2",
   "language": "python",
   "name": "python2"
  },
  "language_info": {
   "codemirror_mode": {
    "name": "ipython",
    "version": 2
   },
   "file_extension": ".py",
   "mimetype": "text/x-python",
   "name": "python",
   "nbconvert_exporter": "python",
   "pygments_lexer": "ipython2",
   "version": "2.7.15"
  }
 },
 "nbformat": 4,
 "nbformat_minor": 2
}
