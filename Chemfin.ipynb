{
 "cells": [
  {
   "cell_type": "markdown",
   "metadata": {},
   "source": [
    "# Chemical fingerprint of plant species"
   ]
  },
  {
   "cell_type": "markdown",
   "metadata": {},
   "source": [
    "## About\n",
    "\n",
    "This is a public repository that containts data and source code to reproduce results of research [cite]\n",
    "Most part of sources are given in Python 2.7, and part regarding hybrid Bayesian networks requires R to be additionally installed."
   ]
  },
  {
   "cell_type": "markdown",
   "metadata": {},
   "source": [
    "## Installation\n",
    "\n",
    "It is highly recomennded to use [Anaconda Python distribution](https://www.anaconda.com/download/) as package manager to work with this repository. It is already contains a number of packages used in this work, such as [numpy](http://www.numpy.org/), [pandas](https://pandas.pydata.org/), [scikit-learn](http://scikit-learn.org/).\n",
    "\n",
    "Additional packages installation:\n",
    "```bash\n",
    "conda install pytorch torchvision -c pytorch\n",
    "pip install dcor\n",
    "```\n",
    "For hybrid Bayesian networks [bnlearn](http://www.bnlearn.com/) package is required. R and rpy2 (package that allows usage of R inside Python) can be installed via following commands:\n",
    "\n",
    "```bash\n",
    "conda install -c r r-essentials\n",
    "conda install -c r rpy2 \n",
    "```\n",
    "\n"
   ]
  },
  {
   "cell_type": "markdown",
   "metadata": {},
   "source": [
    "## Contents\n",
    "\n",
    "\n",
    "[Classifier based on large-scale Bayesian network](./notebooks/bayesian_networks.ipynb)\n",
    "\n",
    "[Autoencoder: build model and classifiers](./notebooks/autoencoder.ipynb)\n",
    "\n",
    "[Classifier based on Tucker decomposition](./notebooks/tucker.ipynb)"
   ]
  }
 ],
 "metadata": {
  "kernelspec": {
   "display_name": "Python 2",
   "language": "python",
   "name": "python2"
  },
  "language_info": {
   "codemirror_mode": {
    "name": "ipython",
    "version": 2
   },
   "file_extension": ".py",
   "mimetype": "text/x-python",
   "name": "python",
   "nbconvert_exporter": "python",
   "pygments_lexer": "ipython2",
   "version": "2.7.14"
  }
 },
 "nbformat": 4,
 "nbformat_minor": 2
}
