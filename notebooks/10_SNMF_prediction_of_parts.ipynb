{
 "cells": [
  {
   "cell_type": "markdown",
   "metadata": {},
   "source": [
    "# SNMF approach: predict part of plant"
   ]
  },
  {
   "cell_type": "markdown",
   "metadata": {},
   "source": [
    "## Contents\n",
    "- [1. Imports](#1.-Imports)\n",
    "- [2. Compute models](#2.-Compute-models)\n",
    "- [3. Predicting parts of plants](#3.-Predicting-parts-of-plants)\n",
    "- [4. Results](#4.-Results)\n",
    "\n",
    "\n",
    "[Back to Chemfin](../Chemfin.ipynb)"
   ]
  },
  {
   "cell_type": "markdown",
   "metadata": {},
   "source": [
    "### 1. Imports\n",
    "\n",
    "[Back to contents](#Contents)"
   ]
  },
  {
   "cell_type": "code",
   "execution_count": 7,
   "metadata": {},
   "outputs": [],
   "source": [
    "import sys\n",
    "sys.path.append('../src/')\n",
    "\n",
    "from computational_utils import reshape\n",
    "\n",
    "import numpy as np\n",
    "import pandas as pd\n",
    "import copy\n",
    "import time\n",
    "import scipy\n",
    "\n",
    "from sklearn.metrics import accuracy_score\n",
    "\n",
    "from matrix import estimateMzPolarityFactors\n",
    "from matrix import MatrixClassifierLCMS\n",
    "\n",
    "from sklearn.metrics import accuracy_score\n",
    "from sklearn.metrics import f1_score\n",
    "from sklearn.metrics import confusion_matrix\n",
    "\n",
    "import dcor\n",
    "\n",
    "\n",
    "import seaborn as sns\n",
    "import matplotlib.pyplot as plt\n",
    "%matplotlib inline\n"
   ]
  },
  {
   "cell_type": "markdown",
   "metadata": {},
   "source": [
    "### 2. Compute models\n",
    "\n",
    "[Back to contents](#Contents)"
   ]
  },
  {
   "cell_type": "code",
   "execution_count": 51,
   "metadata": {},
   "outputs": [
    {
     "name": "stdout",
     "output_type": "stream",
     "text": [
      "ind=0 rank=25 time=51.19s\n",
      "ind=1 rank=25 time=96.54s\n",
      "ind=2 rank=25 time=126.44s\n",
      "ind=3 rank=25 time=134.47s\n",
      "ind=4 rank=25 time=122.57s\n",
      "ind=5 rank=25 time=143.82s\n",
      "ind=6 rank=25 time=131.76s\n",
      "ind=7 rank=25 time=125.67s\n",
      "ind=8 rank=25 time=126.16s\n",
      "ind=9 rank=25 time=127.04s\n",
      "ind=10 rank=25 time=133.84s\n",
      "ind=11 rank=25 time=129.54s\n",
      "ind=12 rank=25 time=121.31s\n",
      "ind=13 rank=25 time=138.53s\n",
      "ind=14 rank=25 time=130.03s\n",
      "ind=15 rank=25 time=125.30s\n",
      "ind=16 rank=25 time=132.48s\n",
      "ind=17 rank=25 time=130.72s\n",
      "ind=18 rank=25 time=120.70s\n",
      "ind=19 rank=25 time=136.48s\n",
      "ind=20 rank=25 time=136.12s\n",
      "ind=21 rank=25 time=122.34s\n",
      "ind=22 rank=25 time=125.98s\n",
      "ind=23 rank=25 time=133.85s\n",
      "ind=24 rank=25 time=133.99s\n"
     ]
    }
   ],
   "source": [
    "data_dirname = '../data/'\n",
    "model_dirname = '../models/matrix_decomposition/'\n",
    "model_filename_prefix = 'parts_model_md_snn'\n",
    "\n",
    "filename_dataset = 'dataset_parts.npz'\n",
    "filename_cv = 'cv_indices_parts.npz'\n",
    "\n",
    "maxitnum = 1000\n",
    "\n",
    "rank = 25\n",
    "\n",
    "df = np.load(data_dirname+filename_cv)\n",
    "test_indices, train_indices = df['test_indices'], df['train_indices']\n",
    "\n",
    "df = np.load(data_dirname+filename_dataset)\n",
    "X, y = df['data'], df['label']\n",
    "X = np.reshape(X, [X.shape[0], -1], order='F')\n",
    "Nfeatures = X.shape[1]\n",
    "\n",
    "tms = []\n",
    "for ind in xrange(len(train_indices)):\n",
    "    clf = MatrixClassifierLCMS(Nfeatures, rank, maxitnum=maxitnum)\n",
    "    tic = time.clock()\n",
    "    clf.fit(X[train_indices[ind]], y[train_indices[ind]], verbose=0)\n",
    "    toc = time.clock()\n",
    "    tms.append(toc-tic)\n",
    "    clf.saveParameters(model_dirname+'rank='+str(rank)+'_'+model_filename_prefix+'_'+str(ind))\n",
    "    np.savez_compressed(\n",
    "        model_dirname+'rank='+str(rank)+'_times_train_'+model_filename_prefix,\n",
    "        tms=tms\n",
    "    )\n",
    "    print \"ind=%d rank=%d time=%.2fs\" % (\n",
    "        ind, rank, tms[-1]\n",
    "    )"
   ]
  },
  {
   "cell_type": "markdown",
   "metadata": {},
   "source": [
    "### 3. Predicting parts of plants\n",
    "\n",
    "[Back to contents](#Contents)"
   ]
  },
  {
   "cell_type": "code",
   "execution_count": 4,
   "metadata": {},
   "outputs": [
    {
     "name": "stdout",
     "output_type": "stream",
     "text": [
      "rank=25_parts_model_md_snn_0.npz\n",
      "ind=0 rank=25 time=326.30s/82.80s acc=0.9629/0.9385/0.8409 f1=0.9635/0.9394/0.8207\n",
      "rank=25_parts_model_md_snn_1.npz\n"
     ]
    },
    {
     "name": "stderr",
     "output_type": "stream",
     "text": [
      "/home/hariyuki/apd/lib/python2.7/site-packages/sklearn/metrics/classification.py:1137: UndefinedMetricWarning: F-score is ill-defined and being set to 0.0 in labels with no true samples.\n",
      "  'recall', 'true', average, warn_for)\n"
     ]
    },
    {
     "name": "stdout",
     "output_type": "stream",
     "text": [
      "ind=1 rank=25 time=328.60s/82.35s acc=0.9652/0.9429/0.8636 f1=0.9655/0.9436/0.8596\n",
      "rank=25_parts_model_md_snn_2.npz\n",
      "ind=2 rank=25 time=326.30s/81.07s acc=0.9580/0.9404/0.8636 f1=0.9588/0.9416/0.8599\n",
      "rank=25_parts_model_md_snn_3.npz\n",
      "ind=3 rank=25 time=326.78s/81.97s acc=0.9559/0.9333/0.8636 f1=0.9568/0.9357/0.8643\n",
      "rank=25_parts_model_md_snn_4.npz\n",
      "ind=4 rank=25 time=329.77s/81.72s acc=0.9465/0.9356/0.8409 f1=0.9481/0.9378/0.8391\n",
      "rank=25_parts_model_md_snn_5.npz\n",
      "ind=5 rank=25 time=322.13s/82.63s acc=0.9563/0.9341/0.8409 f1=0.9566/0.9355/0.8389\n",
      "rank=25_parts_model_md_snn_6.npz\n",
      "ind=6 rank=25 time=325.61s/81.24s acc=0.9624/0.9495/0.8409 f1=0.9631/0.9498/0.8461\n",
      "rank=25_parts_model_md_snn_7.npz\n",
      "ind=7 rank=25 time=329.63s/83.05s acc=0.9624/0.9404/0.8636 f1=0.9628/0.9419/0.8596\n",
      "rank=25_parts_model_md_snn_8.npz\n",
      "ind=8 rank=25 time=347.75s/88.17s acc=0.9641/0.9422/0.8182 f1=0.9648/0.9429/0.7957\n",
      "rank=25_parts_model_md_snn_9.npz\n",
      "ind=9 rank=25 time=329.76s/80.23s acc=0.9614/0.9222/0.8182 f1=0.9623/0.9237/0.7985\n",
      "rank=25_parts_model_md_snn_10.npz\n",
      "ind=10 rank=25 time=345.37s/86.62s acc=0.9602/0.9451/0.8409 f1=0.9606/0.9459/0.8289\n",
      "rank=25_parts_model_md_snn_11.npz\n",
      "ind=11 rank=25 time=348.95s/82.76s acc=0.9652/0.9253/0.8409 f1=0.9653/0.9261/0.8389\n",
      "rank=25_parts_model_md_snn_12.npz\n",
      "ind=12 rank=25 time=327.08s/82.20s acc=0.9608/0.9492/0.8636 f1=0.9616/0.9500/0.8609\n",
      "rank=25_parts_model_md_snn_13.npz\n",
      "ind=13 rank=25 time=329.09s/82.26s acc=0.9619/0.9311/0.8636 f1=0.9629/0.9334/0.8621\n",
      "rank=25_parts_model_md_snn_14.npz\n",
      "ind=14 rank=25 time=328.34s/82.66s acc=0.9597/0.9600/0.8409 f1=0.9607/0.9608/0.8310\n",
      "rank=25_parts_model_md_snn_15.npz\n",
      "ind=15 rank=25 time=304.15s/62.71s acc=0.9624/0.9297/0.8409 f1=0.9629/0.9308/0.8203\n",
      "rank=25_parts_model_md_snn_16.npz\n",
      "ind=16 rank=25 time=251.44s/63.50s acc=0.9602/0.9473/0.8182 f1=0.9607/0.9480/0.7957\n",
      "rank=25_parts_model_md_snn_17.npz\n",
      "ind=17 rank=25 time=253.56s/63.19s acc=0.9558/0.9536/0.8636 f1=0.9567/0.9547/0.8643\n",
      "rank=25_parts_model_md_snn_18.npz\n",
      "ind=18 rank=25 time=253.50s/62.94s acc=0.9641/0.9511/0.8409 f1=0.9645/0.9517/0.8289\n",
      "rank=25_parts_model_md_snn_19.npz\n",
      "ind=19 rank=25 time=267.31s/79.27s acc=0.9404/0.9422/0.8864 f1=0.9414/0.9430/0.8908\n",
      "rank=25_parts_model_md_snn_20.npz\n",
      "ind=20 rank=25 time=318.49s/78.34s acc=0.9640/0.9451/0.8636 f1=0.9647/0.9475/0.8643\n",
      "rank=25_parts_model_md_snn_21.npz\n",
      "ind=21 rank=25 time=250.81s/63.11s acc=0.9629/0.9538/0.8182 f1=0.9636/0.9550/0.7957\n",
      "rank=25_parts_model_md_snn_22.npz\n",
      "ind=22 rank=25 time=251.05s/71.51s acc=0.9635/0.9558/0.8636 f1=0.9642/0.9565/0.8596\n",
      "rank=25_parts_model_md_snn_23.npz\n",
      "ind=23 rank=25 time=317.41s/78.89s acc=0.9653/0.9244/0.8636 f1=0.9660/0.9251/0.8609\n",
      "rank=25_parts_model_md_snn_24.npz\n",
      "ind=24 rank=25 time=318.08s/78.83s acc=0.9664/0.9311/0.8636 f1=0.9667/0.9339/0.8609\n"
     ]
    }
   ],
   "source": [
    "data_dirname = '../data/'\n",
    "model_dirname = '../models/matrix_decomposition/'\n",
    "model_filename_base = 'parts_model_md_snn_'\n",
    "results_dirname = '../results/'\n",
    "\n",
    "filename_dataset = 'dataset_parts.npz'\n",
    "filename_dataset2 = 'test2_parts.npz'\n",
    "filename_cv = 'cv_indices_parts.npz'\n",
    "\n",
    "rank = 25\n",
    "\n",
    "df = np.load(data_dirname+filename_cv)\n",
    "test_indices, train_indices = df['test_indices'], df['train_indices']\n",
    "\n",
    "df = np.load(data_dirname+filename_dataset)\n",
    "X, y = df['data'], df['label']\n",
    "X = np.reshape(X, [X.shape[0], -1], order='F')\n",
    "\n",
    "df = np.load(data_dirname+filename_dataset2)\n",
    "X_test2, y_test2 = df['data'], df['label']\n",
    "X_test2 = np.reshape(X_test2, [X_test2.shape[0], -1], order='F')\n",
    "y_test2 = reshape(y_test2, [-1, 1])\n",
    "\n",
    "Nfeatures = X.shape[1]\n",
    "\n",
    "tms = []\n",
    "accuracies = []\n",
    "f1s = []\n",
    "confusion_matrices = []\n",
    "\n",
    "predicted_pa_test = []\n",
    "predicted_pa_test2 = []\n",
    "\n",
    "\n",
    "for ind in xrange(len(train_indices)):\n",
    "    clf = MatrixClassifierLCMS(Nfeatures, rank)\n",
    "    model_filename = 'rank='+str(rank)+'_'+model_filename_base+str(ind)+'.npz'\n",
    "    print model_filename\n",
    "    clf.loadParameters(model_dirname+model_filename)\n",
    "    \n",
    "    tic = time.clock()\n",
    "    y_train_pred = clf.predict(X[train_indices[ind]])\n",
    "    toc = time.clock()\n",
    "    tms_loc = [toc-tic]\n",
    "    acc_loc = [accuracy_score(y[train_indices[ind]], y_train_pred)]\n",
    "    f1_loc = [f1_score(y[train_indices[ind]], y_train_pred, average='weighted')]\n",
    "    \n",
    "    tic = time.clock()\n",
    "    y_test_pred, y_test_pred_explicit = clf.predict(X[test_indices[ind]], return_all=True)\n",
    "    toc = time.clock()\n",
    "    tms_loc.append(toc-tic)\n",
    "    conf_mat = confusion_matrix(y[test_indices[ind]], y_test_pred)\n",
    "    acc_loc.append( accuracy_score(y[test_indices[ind]], y_test_pred) )\n",
    "    f1_loc.append( f1_score(y[test_indices[ind]], y_test_pred, average='weighted') )\n",
    "    \n",
    "    y_test2_pred, y_test2_pred_explicit = clf.predict(X_test2, return_all=True)\n",
    "    acc_loc.append( accuracy_score(y_test2, y_test2_pred) )\n",
    "    f1_loc.append( f1_score(y_test2, y_test2_pred, average='weighted') )\n",
    "    \n",
    "    y_test_pred_explicit = y_test_pred_explicit.assign(TRUE=y[test_indices[ind]])\n",
    "    predicted_pa_test.append( y_test_pred_explicit.values )\n",
    "    y_test2_pred_explicit = y_test2_pred_explicit.assign(TRUE=y_test2)\n",
    "    predicted_pa_test2.append( y_test2_pred_explicit.values )\n",
    "    \n",
    "    tms.append(tms_loc)\n",
    "    confusion_matrices.append(conf_mat)\n",
    "    accuracies.append(acc_loc)\n",
    "    f1s.append(f1_loc)\n",
    "    np.savez_compressed(\n",
    "        results_dirname+'rank='+str(rank)+model_filename_base+'+CCA',\n",
    "        tms=tms, confusion_matrices=confusion_matrices, accuracies=accuracies,\n",
    "        f1s=f1s, classes=clf.classes, predicted_pa_test=predicted_pa_test,\n",
    "        predicted_pa_test2=predicted_pa_test2\n",
    "    )\n",
    "    print \"ind=%d rank=%d time=%.2fs/%.2fs acc=%.4f/%.4f/%.4f f1=%.4f/%.4f/%.4f\" % (\n",
    "        ind, rank, tms[-1][0], tms[-1][1], acc_loc[0], acc_loc[1], acc_loc[2],\n",
    "        f1_loc[0], f1_loc[1], f1_loc[2]\n",
    "    )"
   ]
  },
  {
   "cell_type": "markdown",
   "metadata": {},
   "source": [
    "### 4. Results\n",
    "\n",
    "[Back to contents](#Contents)"
   ]
  },
  {
   "cell_type": "code",
   "execution_count": 8,
   "metadata": {},
   "outputs": [
    {
     "name": "stdout",
     "output_type": "stream",
     "text": [
      "Median accuracy: train=0.9624 test=0.9422 test2=0.8409\n",
      "Median F1: train=0.9629 test=0.9429 test2=0.8461\n"
     ]
    },
    {
     "data": {
      "image/png": "[encoded data removed]",
      "text/plain": [
       "<matplotlib.figure.Figure at 0x7f6f4ed03590>"
      ]
     },
     "metadata": {},
     "output_type": "display_data"
    }
   ],
   "source": [
    "results_dirname = '../results/'\n",
    "model_filename_base = 'parts_model_md_snn_'\n",
    "results_filename = 'rank='+str(rank)+model_filename_base+'+CCA.npz'\n",
    "df = np.load(results_dirname+results_filename)\n",
    "accuracies = df['accuracies']\n",
    "f1s = df['f1s']\n",
    "cms = df['confusion_matrices']\n",
    "\n",
    "\n",
    "medAcc = np.median(accuracies, axis=0)\n",
    "medF1 = np.median(f1s, axis=0)\n",
    "medCMs = np.median(cms, axis=0)\n",
    "\n",
    "print 'Median accuracy: train=%.4f test=%.4f test2=%.4f' % (medAcc[0], medAcc[1], medAcc[2])\n",
    "print 'Median F1: train=%.4f test=%.4f test2=%.4f' % (medF1[0], medF1[1], medF1[2])\n",
    "clsnms = ['bark', 'buds', 'flowers', 'fructus', 'leaves', 'roots', 'roots,\\n rhizomes', 'seeds']\n",
    "df = pd.DataFrame(medCMs, columns=clsnms)\n",
    "df['names'] = clsnms\n",
    "df = df.set_index('names')\n",
    "medCMs /= np.sum(medCMs, axis=1, keepdims=True)\n",
    "msk1 = medCMs.copy()\n",
    "np.fill_diagonal(msk1, 0.)\n",
    "sns.heatmap(\n",
    "    medCMs, annot=True, vmin=msk1.min(), vmax=1.05*msk1.max(),\n",
    "    xticklabels=clsnms, yticklabels=clsnms, cbar=None,\n",
    "    fmt='.2f', cmap='gist_heat', #mask=np.eye(len(clsnms))\n",
    ")\n",
    "plt.savefig('parts_snmf.pdf')"
   ]
  },
  {
   "cell_type": "code",
   "execution_count": null,
   "metadata": {},
   "outputs": [],
   "source": []
  },
  {
   "cell_type": "code",
   "execution_count": null,
   "metadata": {},
   "outputs": [],
   "source": []
  },
  {
   "cell_type": "code",
   "execution_count": null,
   "metadata": {},
   "outputs": [],
   "source": []
  },
  {
   "cell_type": "code",
   "execution_count": null,
   "metadata": {},
   "outputs": [],
   "source": []
  },
  {
   "cell_type": "code",
   "execution_count": null,
   "metadata": {},
   "outputs": [],
   "source": []
  }
 ],
 "metadata": {
  "kernelspec": {
   "display_name": "Python 2",
   "language": "python",
   "name": "python2"
  },
  "language_info": {
   "codemirror_mode": {
    "name": "ipython",
    "version": 2
   },
   "file_extension": ".py",
   "mimetype": "text/x-python",
   "name": "python",
   "nbconvert_exporter": "python",
   "pygments_lexer": "ipython2",
   "version": "2.7.14"
  }
 },
 "nbformat": 4,
 "nbformat_minor": 2
}
