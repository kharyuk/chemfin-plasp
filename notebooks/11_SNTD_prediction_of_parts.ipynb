{
 "cells": [
  {
   "cell_type": "markdown",
   "metadata": {},
   "source": [
    "# SNTD approach: predict part of plant"
   ]
  },
  {
   "cell_type": "markdown",
   "metadata": {},
   "source": [
    "## Contents\n",
    "- [1. Imports](#1.-Imports)\n",
    "- [2. Compute models](#2.-Compute-models)\n",
    "- [3. Predicting parts of plants](#3.-Predicting-parts-of-plants)\n",
    "- [4. Results](#4.-Results)\n",
    "\n",
    "\n",
    "[Back to Chemfin](../Chemfin.ipynb)"
   ]
  },
  {
   "cell_type": "markdown",
   "metadata": {},
   "source": [
    "### 1. Imports\n",
    "\n",
    "[Back to contents](#Contents)"
   ]
  },
  {
   "cell_type": "code",
   "execution_count": 14,
   "metadata": {},
   "outputs": [],
   "source": [
    "import sys\n",
    "sys.path.append('../src/')\n",
    "\n",
    "from computational_utils import reshape\n",
    "\n",
    "import numpy as np\n",
    "import pandas as pd\n",
    "import copy\n",
    "import time\n",
    "import scipy\n",
    "\n",
    "from sklearn.metrics import accuracy_score\n",
    "\n",
    "from tucker import estimateMzPolarityFactors\n",
    "from tucker import TuckerClassifierLCMS\n",
    "\n",
    "\n",
    "from sklearn.metrics import accuracy_score\n",
    "from sklearn.metrics import f1_score\n",
    "from sklearn.metrics import confusion_matrix\n",
    "\n",
    "import seaborn as sns\n",
    "import matplotlib.pyplot as plt\n",
    "%matplotlib inline"
   ]
  },
  {
   "cell_type": "markdown",
   "metadata": {},
   "source": [
    "### 2. Compute models\n",
    "\n",
    "[Back to contents](#Contents)"
   ]
  },
  {
   "cell_type": "code",
   "execution_count": null,
   "metadata": {},
   "outputs": [],
   "source": [
    "data_dirname = '../data/'\n",
    "model_dirname = '../models/tucker_decomposition/'\n",
    "model_filename_prefix = 'parts_model_td_snn'\n",
    "\n",
    "filename_dataset = 'dataset_parts.npz'\n",
    "filename_cv = 'cv_indices_parts.npz'\n",
    "\n",
    "maxitnum = 1000\n",
    "\n",
    "rank_mz = 25\n",
    "rank_pol = 2\n",
    "\n",
    "r = [rank_mz, rank_pol]\n",
    "\n",
    "df = np.load(data_dirname+filename_cv)\n",
    "test_indices, train_indices = df['test_indices'], df['train_indices']\n",
    "\n",
    "df = np.load(data_dirname+filename_dataset)\n",
    "X, y = df['data'], df['label']\n",
    "Nmz = X.shape[1]\n",
    "\n",
    "tms = []\n",
    "for ind in xrange(6, len(train_indices)):\n",
    "    clf = TuckerClassifierLCMS(Nmz, r, maxitnum=maxitnum)\n",
    "    tic = time.clock()\n",
    "    clf.fit(X[train_indices[ind]], y[train_indices[ind]], verbose=0)\n",
    "    toc = time.clock()\n",
    "    tms.append(toc-tic)\n",
    "    clf.saveParameters(model_dirname+'rank='+str(rank_mz)+'_'+model_filename_prefix+'_'+str(ind))\n",
    "    np.savez_compressed(\n",
    "        model_dirname+'rank='+str(rank_mz)+'_times_train_'+model_filename_prefix,\n",
    "        tms=tms\n",
    "    )\n",
    "    print \"ind=%d rank=%d time=%.2fs\" % (\n",
    "        ind, rank_mz, tms[-1]\n",
    "    )"
   ]
  },
  {
   "cell_type": "markdown",
   "metadata": {},
   "source": [
    "### 3. Predicting parts of plants\n",
    "\n",
    "[Back to contents](#Contents)"
   ]
  },
  {
   "cell_type": "code",
   "execution_count": null,
   "metadata": {},
   "outputs": [],
   "source": [
    "data_dirname = '../data/'\n",
    "model_dirname = '../models/tucker_decomposition/'\n",
    "model_filename_base = 'parts_model_td_snn_'\n",
    "results_dirname = '../results/'\n",
    "\n",
    "filename_dataset = 'dataset_parts.npz'\n",
    "filename_dataset2 = 'test2_parts.npz'\n",
    "filename_cv = 'cv_indices_parts.npz'\n",
    "\n",
    "rank_mz = 25\n",
    "rank_pol = 2\n",
    "\n",
    "r = [rank_mz, rank_pol]\n",
    "\n",
    "df = np.load(data_dirname+filename_cv)\n",
    "test_indices, train_indices = df['test_indices'], df['train_indices']\n",
    "\n",
    "df = np.load(data_dirname+filename_dataset)\n",
    "X, y = df['data'], df['label']\n",
    "#X = np.reshape(X, [X.shape[0], -1], order='F')\n",
    "\n",
    "df = np.load(data_dirname+filename_dataset2)\n",
    "X_test2, y_test2 = df['data'], df['label']\n",
    "y_test2 = reshape(y_test2, [-1, 1])\n",
    "\n",
    "Nmz = X.shape[1]\n",
    "\n",
    "tms = []\n",
    "accuracies = []\n",
    "f1s = []\n",
    "confusion_matrices = []\n",
    "\n",
    "predicted_pa_test = []\n",
    "predicted_pa_test2 = []\n",
    "\n",
    "for ind in xrange(len(train_indices)):\n",
    "    clf = TuckerClassifierLCMS(Nmz, r)\n",
    "    model_filename = 'rank='+str(rank_mz)+'_'+model_filename_base+str(ind)+'.npz'\n",
    "    print model_filename\n",
    "    clf.loadParameters(model_dirname+model_filename)\n",
    "    \n",
    "    tic = time.clock()\n",
    "    y_train_pred = clf.predict(X[train_indices[ind]])\n",
    "    toc = time.clock()\n",
    "    tms_loc = [toc-tic]\n",
    "    acc_loc = [accuracy_score(y[train_indices[ind]], y_train_pred)]\n",
    "    f1_loc = [f1_score(y[train_indices[ind]], y_train_pred, average='weighted')]\n",
    "    \n",
    "    tic = time.clock()\n",
    "    y_test_pred, y_test_pred_explicit = clf.predict(X[test_indices[ind]], return_all=True)\n",
    "    toc = time.clock()\n",
    "    tms_loc.append(toc-tic)\n",
    "    conf_mat = confusion_matrix(y[test_indices[ind]], y_test_pred)\n",
    "    acc_loc.append( accuracy_score(y[test_indices[ind]], y_test_pred) )\n",
    "    f1_loc.append( f1_score(y[test_indices[ind]], y_test_pred, average='weighted') )\n",
    "    \n",
    "    y_test2_pred, y_test2_pred_explicit = clf.predict(X_test2, return_all=True)\n",
    "    acc_loc.append( accuracy_score(y_test2, y_test2_pred) )\n",
    "    f1_loc.append( f1_score(y_test2, y_test2_pred, average='weighted') )\n",
    "    \n",
    "    y_test_pred_explicit = y_test_pred_explicit.assign(TRUE=y[test_indices[ind]])\n",
    "    predicted_pa_test.append( y_test_pred_explicit.values )\n",
    "    y_test2_pred_explicit = y_test2_pred_explicit.assign(TRUE=y_test2)\n",
    "    predicted_pa_test2.append( y_test2_pred_explicit.values )\n",
    "    \n",
    "    tms.append(tms_loc)\n",
    "    confusion_matrices.append(conf_mat)\n",
    "    accuracies.append(acc_loc)\n",
    "    f1s.append(f1_loc)\n",
    "    np.savez_compressed(\n",
    "        results_dirname+'rank='+str(rank_mz)+model_filename_base+'+CCA',\n",
    "        tms=tms, confusion_matrices=confusion_matrices, accuracies=accuracies,\n",
    "        f1s=f1s, classes=clf.classes, predicted_pa_test=predicted_pa_test,\n",
    "        predicted_pa_test2=predicted_pa_test2\n",
    "    )\n",
    "    print \"ind=%d rank=%d time=%.2fs/%.2fs acc=%.4f/%.4f/%.4f f1=%.4f/%.4f/%.4f\" % (\n",
    "        ind, rank_mz, tms[-1][0], tms[-1][1], acc_loc[0], acc_loc[1], acc_loc[2],\n",
    "        f1_loc[0], f1_loc[1], f1_loc[2]\n",
    "    )"
   ]
  },
  {
   "cell_type": "markdown",
   "metadata": {},
   "source": [
    "### 4. Results\n",
    "\n",
    "[Back to contents](#Contents)"
   ]
  },
  {
   "cell_type": "code",
   "execution_count": 15,
   "metadata": {},
   "outputs": [
    {
     "name": "stdout",
     "output_type": "stream",
     "text": [
      "Median accuracy: train=0.8993 test=0.8756 test2=0.8636\n",
      "Median F1: train=0.9027 test=0.8794 test2=0.8767\n"
     ]
    },
    {
     "data": {
      "image/png": "[encoded data removed]",
      "text/plain": [
       "<matplotlib.figure.Figure at 0x7f8c1504a2d0>"
      ]
     },
     "metadata": {},
     "output_type": "display_data"
    }
   ],
   "source": [
    "\n",
    "results_dirname = '../results/'\n",
    "model_filename_base = 'parts_model_td_snn_'\n",
    "results_filename = 'rank='+str(rank_mz)+model_filename_base+'+CCA.npz'\n",
    "df = np.load(results_dirname+results_filename)\n",
    "accuracies = df['accuracies']\n",
    "f1s = df['f1s']\n",
    "cms = df['confusion_matrices']\n",
    "\n",
    "\n",
    "medAcc = np.median(accuracies, axis=0)\n",
    "medF1 = np.median(f1s, axis=0)\n",
    "medCMs = np.median(cms, axis=0)\n",
    "\n",
    "print 'Median accuracy: train=%.4f test=%.4f test2=%.4f' % (medAcc[0], medAcc[1], medAcc[2])\n",
    "print 'Median F1: train=%.4f test=%.4f test2=%.4f' % (medF1[0], medF1[1], medF1[2])\n",
    "clsnms = ['bark', 'buds', 'flowers', 'fructus', 'leaves', 'roots', 'roots,\\n rhizomes', 'seeds']\n",
    "df = pd.DataFrame(medCMs, columns=clsnms)\n",
    "df['names'] = clsnms\n",
    "df = df.set_index('names')\n",
    "medCMs /= np.sum(medCMs, axis=1, keepdims=True)\n",
    "msk1 = medCMs.copy()\n",
    "np.fill_diagonal(msk1, 0.)\n",
    "sns.heatmap(\n",
    "    medCMs, annot=True, vmin=msk1.min(), vmax=1.05*msk1.max(),\n",
    "    xticklabels=clsnms, yticklabels=clsnms, cbar=None,\n",
    "    fmt='.2f', cmap='gist_heat', #mask=np.eye(len(clsnms))\n",
    ")\n",
    "plt.savefig('parts_sntd.pdf')"
   ]
  },
  {
   "cell_type": "code",
   "execution_count": null,
   "metadata": {},
   "outputs": [],
   "source": []
  },
  {
   "cell_type": "code",
   "execution_count": null,
   "metadata": {},
   "outputs": [],
   "source": []
  },
  {
   "cell_type": "code",
   "execution_count": null,
   "metadata": {},
   "outputs": [],
   "source": []
  },
  {
   "cell_type": "code",
   "execution_count": null,
   "metadata": {},
   "outputs": [],
   "source": []
  },
  {
   "cell_type": "code",
   "execution_count": null,
   "metadata": {},
   "outputs": [],
   "source": []
  },
  {
   "cell_type": "code",
   "execution_count": null,
   "metadata": {},
   "outputs": [],
   "source": []
  },
  {
   "cell_type": "code",
   "execution_count": null,
   "metadata": {},
   "outputs": [],
   "source": []
  }
 ],
 "metadata": {
  "kernelspec": {
   "display_name": "Python 2",
   "language": "python",
   "name": "python2"
  },
  "language_info": {
   "codemirror_mode": {
    "name": "ipython",
    "version": 2
   },
   "file_extension": ".py",
   "mimetype": "text/x-python",
   "name": "python",
   "nbconvert_exporter": "python",
   "pygments_lexer": "ipython2",
   "version": "2.7.14"
  }
 },
 "nbformat": 4,
 "nbformat_minor": 2
}
