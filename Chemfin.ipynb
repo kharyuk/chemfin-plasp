{
 "cells": [
  {
   "cell_type": "markdown",
   "metadata": {},
   "source": [
    "# Chemical fingerprint of plant species"
   ]
  },
  {
   "cell_type": "markdown",
   "metadata": {},
   "source": [
    "## About\n",
    "\n",
    "This is a public repository that containts data and source code to reproduce results of research [cite]\n",
    "Most part of sources are given in Python 2.7, and part regarding hybrid Bayesian networks requires R to be additionally installed."
   ]
  },
  {
   "cell_type": "markdown",
   "metadata": {},
   "source": [
    "## Installation\n",
    "\n",
    "It is highly recomennded to use [Anaconda Python distribution](https://www.anaconda.com/download/) as package manager to work with this repository. It is already contains a number of packages used in this work, such as [numpy](http://www.numpy.org/), [pandas](https://pandas.pydata.org/), [scikit-learn](http://scikit-learn.org/).\n",
    "\n",
    "Additional packages installation:\n",
    "```bash\n",
    "conda install pytorch torchvision -c pytorch\n",
    "pip install dcor\n",
    "```\n",
    "For hybrid Bayesian networks [bnlearn](http://www.bnlearn.com/) package is required. R and rpy2 (package that allows usage of R inside Python) can be installed via following commands:\n",
    "\n",
    "```bash\n",
    "conda install -c r r-essentials\n",
    "conda install -c r rpy2 \n",
    "```\n",
    "\n"
   ]
  },
  {
   "cell_type": "markdown",
   "metadata": {},
   "source": [
    "## Contents\n",
    "\n",
    "[1. Initializiation](./notebooks/01_Initialize.ipynb)\n",
    "\n",
    "[2. Autoencoder](./notebooks/02_Autoencoder.ipynb)\n",
    "\n",
    "[3. Sparse non-negative Tucker decomposition](./notebooks/03_Tucker.ipynb)\n",
    "\n",
    "[4. Large-scale Bayessian networks](./notebooks/04_Bayessian_Networks.ipynb)\n",
    "\n",
    "[5. Sparse non-negative matrix factorization](./notebooks/05_Matrix.ipynb)\n",
    "\n",
    "[6. Hierarchical clustering analysis and t-SNE for autoencoded representation](./notebooks/06_HCA_and_tSNE.ipynb)\n",
    "\n",
    "[7. Top predictions](./notebooks/07_Top-predictions.ipynb)\n",
    "\n",
    "[8. SNMF and SNTD components](./notebooks/08_SNMF_and_SNTD_components.ipynb)\n",
    "\n",
    "[9. Autoencoder: prediction of plant parts](./notebooks/09_Autoencoder_Prediction_of_plant_parts.ipynb)\n",
    "\n",
    "[10. SNMF: prediction of plant parts](./notebooks/10_SNMF_prediction_of_parts.ipynb)\n",
    "\n",
    "[11. SNTD: prediction of plant parts](./notebooks/11_SNTD_prediction_of_parts.ipynb)"
   ]
  }
 ],
 "metadata": {
  "kernelspec": {
   "display_name": "Python 2",
   "language": "python",
   "name": "python2"
  },
  "language_info": {
   "codemirror_mode": {
    "name": "ipython",
    "version": 2
   },
   "file_extension": ".py",
   "mimetype": "text/x-python",
   "name": "python",
   "nbconvert_exporter": "python",
   "pygments_lexer": "ipython2",
   "version": "2.7.14"
  }
 },
 "nbformat": 4,
 "nbformat_minor": 2
}
